{
 "cells": [
  {
   "cell_type": "markdown",
   "metadata": {},
   "source": [
    "## Reverse Search Rank Algorithm by Using Data Science"
   ]
  },
  {
   "cell_type": "markdown",
   "metadata": {},
   "source": [
    "**USE CASE:** \n",
    "\n",
    "Online course search engine (i.e. Lynda.com from Linkedin) returns a range of courses that best match to a given search query where a user searches. However, no ones knows the 'secret source' - how is every single ranking factor working?\n",
    "\n",
    "Here, I would like to use data science technology to reverse the ranking algorithm as much as possible!\n",
    "\n",
    "**SOLUTION:** \n",
    "1. Given a query, crawl the courses' link and rank from the SERP page;\n",
    "2. Extract all of available data associated with those courses;\n",
    "3. Analyze and explore the dataset to identify the rank signals;\n",
    "4. Build the machine learning models to predict ranking based on certain inputs.\n",
    "\n",
    "At this point, let's get started with this [Lynda Search Result](https://www.lynda.com/search?q=python&f=producttypeid%3a2&unx=1) for this query 'python' - https://www.lynda.com/search?q=python&f=producttypeid%3a2&unx=1\n",
    "\n",
    "This project actually includes two parts. Part one could be found on this repository [Lynda SERP Rank Parser](https://gitlab.com/szhuang/lynda-reverse-search-rank-algorithm/tree/master/java/lynda-serp-rank-parser) - https://gitlab.com/szhuang/lynda-reverse-search-rank-algorithm/tree/master/java/lynda-serp-rank-parser. Part two is this Jupyter notebook. "
   ]
  },
  {
   "cell_type": "markdown",
   "metadata": {},
   "source": [
    "**GOALS:** \n",
    "\n",
    "The goal of this analysis will be able to anwser the following questions:\n",
    "* What does the ranking depend on? (e.g The more update-to-date the course is, the higher ranking it has)\n",
    "* If the instructor does XYZ things on their courses, what's the expected rank number going to be for the target query? (e.g. The content of course should include search query more than twice)"
   ]
  },
  {
   "cell_type": "markdown",
   "metadata": {},
   "source": [
    "**RESULTS:**\n",
    "\n",
    "1. Be able to build a simple but well-perfomed Generalized Linear Model to predict the rank based on the combination of 15 features. The R2 for test dataset is high up to 0.84, which captures >80% of prediction information.\n",
    "2. The key rank signals could be keyword frequencies, up-to-date content (We need to compute the feature importance in next step)\n",
    "3. Implemented the Tnesorflow Linear model as well."
   ]
  },
  {
   "cell_type": "markdown",
   "metadata": {},
   "source": [
    "**NEXT:**\n",
    "\n",
    "1. Tune the parameters and implement other machine learning algorithm (e.g. Random Forest, GLMM and Deep Neural Networks) in order to find the best models\n",
    "2. Try to collect and add more reliable data points from the website, e.g. Author info, Exercise Files, Video Content, Image, etc.\n",
    "3. Try to find out if any low quality course get higher rank.\n",
    "4. Monitor how do these factor change over time"
   ]
  },
  {
   "cell_type": "markdown",
   "metadata": {},
   "source": [
    "**DISCLAIMER:**\n",
    "\n",
    "1. The dataset we use for this notebook is to aim to do a data scinece work, kind of academic and research, it doens't have any iscommercial purposes.\n",
    "2. The action of getting the public data for this project also follows the web policy that's described here https://www.lynda.com/aboutus/website-use-policy\n",
    "3. Please reach out me by if you have any questions and concerns"
   ]
  },
  {
   "cell_type": "code",
   "execution_count": 74,
   "metadata": {},
   "outputs": [],
   "source": [
    "\"\"\"\n",
    "1. lydna_serp is a customized python moudle to deal with the data manipulation for this dataset \n",
    "2. pystats is a high level package that I built on top of a range of statsitics open source\n",
    "\"\"\"\n",
    "import lydna_serp as ls\n",
    "import pystats as ps\n",
    "from pystats.models import ModelSetting, Model, LinearRegressorModel, TreeRegressorModel\n",
    "import numpy as np\n",
    "\n",
    "import seaborn as sns\n",
    "import matplotlib.pyplot as plt\n",
    "%matplotlib inline"
   ]
  },
  {
   "cell_type": "markdown",
   "metadata": {},
   "source": [
    "### Load Data"
   ]
  },
  {
   "cell_type": "code",
   "execution_count": 61,
   "metadata": {},
   "outputs": [],
   "source": [
    "\"\"\"\n",
    "1. Export the dataset from the database\n",
    "2. Download the data by reading csv\n",
    "3. Feature engineering (The detailed code is in lydna_serp module)\n",
    "\"\"\"\n",
    "\n",
    "keyword = 'python'\n",
    "crawled_date = '2018-10-21'\n",
    "\n",
    "data = ps.load('lynda-serp-python.csv')\n",
    "ls.build_features(data, crawled_date, keyword)\n",
    "\n",
    "# take the log of the rank numner becasue we need to apply to GLM later on\n",
    "data['rank_log'] = data['rank'].apply(np.log10)"
   ]
  },
  {
   "cell_type": "code",
   "execution_count": 62,
   "metadata": {},
   "outputs": [
    {
     "name": "stdout",
     "output_type": "stream",
     "text": [
      "<class 'pystats.ops.table.PyTable'>\n",
      "RangeIndex: 457 entries, 0 to 456\n",
      "Data columns (total 32 columns):\n",
      "course_id                        457 non-null int64\n",
      "keyword                          457 non-null object\n",
      "rank                             457 non-null int64\n",
      "page_number                      457 non-null int64\n",
      "url                              457 non-null object\n",
      "title                            457 non-null object\n",
      "description                      457 non-null object\n",
      "content                          457 non-null object\n",
      "duration                         457 non-null object\n",
      "skill_level                      457 non-null object\n",
      "release_date                     457 non-null object\n",
      "views                            456 non-null object\n",
      "category                         457 non-null object\n",
      "sub_category                     454 non-null object\n",
      "author                           457 non-null object\n",
      "author_profile                   457 non-null object\n",
      "title_length                     457 non-null int64\n",
      "description_length               457 non-null int64\n",
      "content_length                   457 non-null int64\n",
      "title_word_count                 457 non-null int64\n",
      "description_word_count           457 non-null int64\n",
      "content_word_count               457 non-null int64\n",
      "keyword_in_title                 457 non-null int64\n",
      "keyword_in_description           457 non-null int64\n",
      "keyword_occurrence_in_content    457 non-null int64\n",
      "duration_in_mins                 457 non-null int64\n",
      "course_age                       457 non-null int64\n",
      "number_of_views                  457 non-null int64\n",
      "is_advanced_level                457 non-null uint8\n",
      "is_beginner_level                457 non-null uint8\n",
      "is_intermediate_level            457 non-null uint8\n",
      "rank_log                         457 non-null float64\n",
      "dtypes: float64(1), int64(15), object(13), uint8(3)\n",
      "memory usage: 105.0+ KB\n"
     ]
    }
   ],
   "source": [
    "data.info()"
   ]
  },
  {
   "cell_type": "code",
   "execution_count": 63,
   "metadata": {},
   "outputs": [
    {
     "data": {
      "image/png": "[encoded data removed]",
      "text/plain": [
       "<matplotlib.figure.Figure at 0x189057bab38>"
      ]
     },
     "metadata": {},
     "output_type": "display_data"
    }
   ],
   "source": [
    "# check the null value\n",
    "sns.heatmap(data.isnull(), yticklabels=False, cbar=False, cmap='viridis')\n",
    "plt.show()"
   ]
  },
  {
   "cell_type": "code",
   "execution_count": 65,
   "metadata": {},
   "outputs": [],
   "source": [
    "\"\"\"\n",
    "1. Select a list of features as predictor input\n",
    "2. Assign a variable to be target as output\n",
    "\"\"\"\n",
    "\n",
    "predictors = [\n",
    "    'title_length',\n",
    "    'description_length',\n",
    "    'content_length',\n",
    "    'title_word_count',\n",
    "    'description_word_count',\n",
    "    'content_word_count',\n",
    "    'keyword_in_title',\n",
    "    'keyword_in_description',\n",
    "    'keyword_occurrence_in_content',\n",
    "    'duration_in_mins',\n",
    "    'course_age',\n",
    "    'number_of_views',\n",
    "    'is_advanced_level',\n",
    "    'is_beginner_level',\n",
    "    'is_intermediate_level'\n",
    "]\n",
    "\n",
    "target = 'rank_log'"
   ]
  },
  {
   "cell_type": "markdown",
   "metadata": {},
   "source": [
    "### Build Model - GLM"
   ]
  },
  {
   "cell_type": "code",
   "execution_count": 66,
   "metadata": {},
   "outputs": [],
   "source": [
    "\"\"\"\n",
    "\n",
    "1. Pass the model parameters to the model settings\n",
    "2. Build a Linear Regression Model instance\n",
    "3. Train and test the data\n",
    "\"\"\"\n",
    "\n",
    "setting = ModelSetting.create() \\\n",
    ".add(ModelSetting.TRAINING_SIZE, 0.8) \\\n",
    ".add(ModelSetting.SEED, 77) \\\n",
    ".add(ModelSetting.MODEL_NAME, Model.LINEAR_REGRESSION) \\\n",
    ".add(ModelSetting.ALPAH, 0.5) \\\n",
    ".add(ModelSetting.PREDICTORS, predictors) \\\n",
    ".add(ModelSetting.TARGET, target) \\\n",
    ".setup()"
   ]
  },
  {
   "cell_type": "code",
   "execution_count": 67,
   "metadata": {},
   "outputs": [],
   "source": [
    "model = LinearRegressorModel(data, setting)"
   ]
  },
  {
   "cell_type": "code",
   "execution_count": 68,
   "metadata": {},
   "outputs": [],
   "source": [
    "# Train the model\n",
    "model.train()"
   ]
  },
  {
   "cell_type": "code",
   "execution_count": 69,
   "metadata": {},
   "outputs": [
    {
     "data": {
      "text/plain": [
       "{'alpha': 0.5,\n",
       " 'model_name': 'Linear Regression',\n",
       " 'predictors': 'title_length,description_length,content_length,title_word_count,description_word_count,content_word_count,keyword_in_title,keyword_in_description,keyword_occurrence_in_content,duration_in_mins,course_age,number_of_views,is_advanced_level,is_beginner_level,is_intermediate_level',\n",
       " 'seed': 77,\n",
       " 'target': 'rank_log',\n",
       " 'train_mse': 0.03372512060994532,\n",
       " 'train_r2': 0.798264718588463,\n",
       " 'train_rmse': 0.18364400510211412,\n",
       " 'training_size': 0.8}"
      ]
     },
     "execution_count": 69,
     "metadata": {},
     "output_type": "execute_result"
    }
   ],
   "source": [
    "model.model_performance()"
   ]
  },
  {
   "cell_type": "code",
   "execution_count": 70,
   "metadata": {},
   "outputs": [
    {
     "data": {
      "text/plain": [
       "<pystats.ops.metrics.RegressorMetrics at 0x189057d5630>"
      ]
     },
     "execution_count": 70,
     "metadata": {},
     "output_type": "execute_result"
    }
   ],
   "source": [
    "model.evaluate()"
   ]
  },
  {
   "cell_type": "code",
   "execution_count": 71,
   "metadata": {},
   "outputs": [
    {
     "name": "stdout",
     "output_type": "stream",
     "text": [
      "Mean Squared Error: 0.03437653090616072\n",
      "Root Mean Squared Error: 0.18540909067831793\n",
      "R2 Score: 0.846718448384329\n"
     ]
    }
   ],
   "source": [
    "model.test_report.show()"
   ]
  },
  {
   "cell_type": "code",
   "execution_count": 72,
   "metadata": {},
   "outputs": [
    {
     "data": {
      "image/png": "[encoded data removed]",
      "text/plain": [
       "<matplotlib.figure.Figure at 0x189057d2240>"
      ]
     },
     "metadata": {},
     "output_type": "display_data"
    }
   ],
   "source": [
    "# check the distribution of difference between actual data and predicted data without transforming to orignal rank\n",
    "sns.distplot(model.predict(model.X_test)-model.y_test)\n",
    "plt.show()"
   ]
  },
  {
   "cell_type": "code",
   "execution_count": 73,
   "metadata": {},
   "outputs": [
    {
     "data": {
      "image/png": "[encoded data removed]",
      "text/plain": [
       "<matplotlib.figure.Figure at 0x189057caeb8>"
      ]
     },
     "metadata": {},
     "output_type": "display_data"
    }
   ],
   "source": [
    "# check the distribution of difference between actual data and predicted data with transforming to orignal rank\n",
    "sns.distplot(model.predict(model.X_test).apply(lambda x: np.power(10,x))-model.y_test.apply(lambda x: np.power(10,x)))\n",
    "plt.show()"
   ]
  },
  {
   "cell_type": "markdown",
   "metadata": {},
   "source": [
    "### Prediction"
   ]
  },
  {
   "cell_type": "code",
   "execution_count": 19,
   "metadata": {},
   "outputs": [
    {
     "data": {
      "text/html": [
       "<div>\n",
       "<style scoped>\n",
       "    .dataframe tbody tr th:only-of-type {\n",
       "        vertical-align: middle;\n",
       "    }\n",
       "\n",
       "    .dataframe tbody tr th {\n",
       "        vertical-align: top;\n",
       "    }\n",
       "\n",
       "    .dataframe thead th {\n",
       "        text-align: right;\n",
       "    }\n",
       "</style>\n",
       "<table border=\"1\" class=\"dataframe\">\n",
       "  <thead>\n",
       "    <tr style=\"text-align: right;\">\n",
       "      <th></th>\n",
       "      <th>course_id</th>\n",
       "      <th>keyword</th>\n",
       "      <th>rank</th>\n",
       "      <th>page_number</th>\n",
       "      <th>url</th>\n",
       "      <th>title</th>\n",
       "      <th>description</th>\n",
       "      <th>content</th>\n",
       "      <th>duration</th>\n",
       "      <th>skill_level</th>\n",
       "      <th>...</th>\n",
       "      <th>keyword_in_title</th>\n",
       "      <th>keyword_in_description</th>\n",
       "      <th>keyword_occurrence_in_content</th>\n",
       "      <th>duration_in_mins</th>\n",
       "      <th>course_age</th>\n",
       "      <th>number_of_views</th>\n",
       "      <th>is_advanced_level</th>\n",
       "      <th>is_beginner_level</th>\n",
       "      <th>is_intermediate_level</th>\n",
       "      <th>rank_log</th>\n",
       "    </tr>\n",
       "  </thead>\n",
       "  <tbody>\n",
       "    <tr>\n",
       "      <th>154</th>\n",
       "      <td>648913</td>\n",
       "      <td>python</td>\n",
       "      <td>156</td>\n",
       "      <td>4</td>\n",
       "      <td>https://www.lynda.com/Business-Skills-tutorial...</td>\n",
       "      <td>Technology for Product Managers</td>\n",
       "      <td>Learn the key technology terms and trends that...</td>\n",
       "      <td>Product managers must know technology basics. ...</td>\n",
       "      <td>46m 44s</td>\n",
       "      <td>Beginner</td>\n",
       "      <td>...</td>\n",
       "      <td>0</td>\n",
       "      <td>0</td>\n",
       "      <td>0</td>\n",
       "      <td>46</td>\n",
       "      <td>209</td>\n",
       "      <td>22799</td>\n",
       "      <td>0</td>\n",
       "      <td>1</td>\n",
       "      <td>0</td>\n",
       "      <td>2.193125</td>\n",
       "    </tr>\n",
       "  </tbody>\n",
       "</table>\n",
       "<p>1 rows × 32 columns</p>\n",
       "</div>"
      ],
      "text/plain": [
       "     course_id keyword  rank  page_number  \\\n",
       "154     648913  python   156            4   \n",
       "\n",
       "                                                   url  \\\n",
       "154  https://www.lynda.com/Business-Skills-tutorial...   \n",
       "\n",
       "                               title  \\\n",
       "154  Technology for Product Managers   \n",
       "\n",
       "                                           description  \\\n",
       "154  Learn the key technology terms and trends that...   \n",
       "\n",
       "                                               content duration skill_level  \\\n",
       "154  Product managers must know technology basics. ...  46m 44s    Beginner   \n",
       "\n",
       "       ...    keyword_in_title keyword_in_description  \\\n",
       "154    ...                   0                      0   \n",
       "\n",
       "    keyword_occurrence_in_content duration_in_mins course_age number_of_views  \\\n",
       "154                             0               46        209           22799   \n",
       "\n",
       "     is_advanced_level  is_beginner_level  is_intermediate_level  rank_log  \n",
       "154                  0                  1                      0  2.193125  \n",
       "\n",
       "[1 rows x 32 columns]"
      ]
     },
     "execution_count": 19,
     "metadata": {},
     "output_type": "execute_result"
    }
   ],
   "source": [
    "'''\n",
    "Prediction for a random course\n",
    "'''\n",
    "course = data.sample(1)\n",
    "course"
   ]
  },
  {
   "cell_type": "code",
   "execution_count": 20,
   "metadata": {},
   "outputs": [
    {
     "name": "stdout",
     "output_type": "stream",
     "text": [
      "Actual Rank=156\n",
      "Predicted Rank=155.47\n"
     ]
    }
   ],
   "source": [
    "print('Actual Rank={}'.format(course['rank'].values[0]))\n",
    "print('Predicted Rank={:.2f}'.format(model.predict(course).apply(lambda x: np.power(10,x)).values[0]))"
   ]
  },
  {
   "cell_type": "code",
   "execution_count": 58,
   "metadata": {},
   "outputs": [
    {
     "data": {
      "text/html": [
       "<div>\n",
       "<style scoped>\n",
       "    .dataframe tbody tr th:only-of-type {\n",
       "        vertical-align: middle;\n",
       "    }\n",
       "\n",
       "    .dataframe tbody tr th {\n",
       "        vertical-align: top;\n",
       "    }\n",
       "\n",
       "    .dataframe thead th {\n",
       "        text-align: right;\n",
       "    }\n",
       "</style>\n",
       "<table border=\"1\" class=\"dataframe\">\n",
       "  <thead>\n",
       "    <tr style=\"text-align: right;\">\n",
       "      <th></th>\n",
       "      <th>title_length</th>\n",
       "      <th>description_length</th>\n",
       "      <th>content_length</th>\n",
       "      <th>title_word_count</th>\n",
       "      <th>description_word_count</th>\n",
       "      <th>content_word_count</th>\n",
       "      <th>keyword_in_title</th>\n",
       "      <th>keyword_in_description</th>\n",
       "      <th>keyword_occurrence_in_content</th>\n",
       "      <th>duration_in_mins</th>\n",
       "      <th>course_age</th>\n",
       "      <th>number_of_views</th>\n",
       "      <th>is_advanced_level</th>\n",
       "      <th>is_beginner_level</th>\n",
       "      <th>is_intermediate_level</th>\n",
       "      <th>rank_log</th>\n",
       "    </tr>\n",
       "  </thead>\n",
       "  <tbody>\n",
       "    <tr>\n",
       "      <th>389</th>\n",
       "      <td>34</td>\n",
       "      <td>139</td>\n",
       "      <td>1244</td>\n",
       "      <td>4</td>\n",
       "      <td>23</td>\n",
       "      <td>182</td>\n",
       "      <td>0</td>\n",
       "      <td>0</td>\n",
       "      <td>0</td>\n",
       "      <td>145</td>\n",
       "      <td>1244</td>\n",
       "      <td>374880</td>\n",
       "      <td>0</td>\n",
       "      <td>0</td>\n",
       "      <td>1</td>\n",
       "      <td>2.594393</td>\n",
       "    </tr>\n",
       "  </tbody>\n",
       "</table>\n",
       "</div>"
      ],
      "text/plain": [
       "     title_length  description_length  content_length  title_word_count  \\\n",
       "389            34                 139            1244                 4   \n",
       "\n",
       "     description_word_count  content_word_count  keyword_in_title  \\\n",
       "389                      23                 182                 0   \n",
       "\n",
       "     keyword_in_description  keyword_occurrence_in_content  duration_in_mins  \\\n",
       "389                       0                              0               145   \n",
       "\n",
       "     course_age  number_of_views  is_advanced_level  is_beginner_level  \\\n",
       "389        1244           374880                  0                  0   \n",
       "\n",
       "     is_intermediate_level  rank_log  \n",
       "389                      1  2.594393  "
      ]
     },
     "execution_count": 58,
     "metadata": {},
     "output_type": "execute_result"
    }
   ],
   "source": [
    "'''\n",
    "Prediction for a random course\n",
    "'''\n",
    "course2 = model.test_data.sample(1)\n",
    "course2"
   ]
  },
  {
   "cell_type": "code",
   "execution_count": 59,
   "metadata": {},
   "outputs": [
    {
     "name": "stdout",
     "output_type": "stream",
     "text": [
      "Actual Rank=392.9999999999999\n",
      "Predicted Rank=348.27\n"
     ]
    }
   ],
   "source": [
    "print('Actual Rank={}'.format(course2['rank_log'].apply(lambda x: np.power(10,x)).values[0]))\n",
    "print('Predicted Rank={:.2f}'.format(model.predict(course2).apply(lambda x: np.power(10,x)).values[0]))"
   ]
  },
  {
   "cell_type": "markdown",
   "metadata": {},
   "source": [
    "### Tensorflow Linear Model"
   ]
  },
  {
   "cell_type": "code",
   "execution_count": 21,
   "metadata": {},
   "outputs": [],
   "source": [
    "import tensorflow as tf"
   ]
  },
  {
   "cell_type": "code",
   "execution_count": 22,
   "metadata": {},
   "outputs": [
    {
     "name": "stdout",
     "output_type": "stream",
     "text": [
      "Tensorflow version=1.10.0\n"
     ]
    }
   ],
   "source": [
    "print('Tensorflow version={}'.format(tf.__version__))"
   ]
  },
  {
   "cell_type": "code",
   "execution_count": 23,
   "metadata": {},
   "outputs": [],
   "source": [
    "tf.reset_default_graph()"
   ]
  },
  {
   "cell_type": "code",
   "execution_count": 24,
   "metadata": {},
   "outputs": [],
   "source": [
    "\"\"\"\n",
    "Set up the hyper parameters\n",
    "\"\"\"\n",
    "\n",
    "learning_rate = 0.01\n",
    "epochs = 10000\n",
    "batch_size = 200\n",
    "display_step = 1000\n",
    "\n",
    "n_features = len(predictors)\n",
    "n_classes = 1\n",
    "\n",
    "X = data[predictors].as_matrix().astype('float')\n",
    "y = data[['rank_log']].as_matrix()\n",
    "\n",
    "split_ratio = 0.8\n",
    "seed = 77\n",
    "np.random.seed(seed)\n",
    "train_size = int(len(X) * split_ratio)\n",
    "\n",
    "# shuffled_ix = np.random.permutation(len(X))\n",
    "# X_shuffled = X[shuffled_ix]\n",
    "# y_shuflled = y[shuffled_ix]\n",
    "\n",
    "#X_train, X_test = X_shuffled[0:train_size], X_shuffled[train_size:]\n",
    "#y_train, y_test = y_shuflled[0:train_size], y_shuflled[train_size:]"
   ]
  },
  {
   "cell_type": "code",
   "execution_count": 25,
   "metadata": {},
   "outputs": [],
   "source": [
    "# Make sure same training and testing dataset\n",
    "X_train, X_test = model.X_train.as_matrix().astype('float'), model.X_test.as_matrix().astype('float')\n",
    "y_train, y_test = model.y_train.as_matrix().reshape(-1,1).astype('float'), model.y_test.as_matrix().reshape(-1,1).astype('float')"
   ]
  },
  {
   "cell_type": "code",
   "execution_count": 26,
   "metadata": {},
   "outputs": [],
   "source": [
    "# Normilize the data to avoid Vanishing gradient\n",
    "from sklearn.preprocessing import MinMaxScaler\n",
    "\n",
    "scaler = MinMaxScaler()\n",
    "scaler.fit(X_train)\n",
    "X_train = scaler.transform(X_train)\n",
    "X_test = scaler.transform(X_test)"
   ]
  },
  {
   "cell_type": "code",
   "execution_count": 27,
   "metadata": {},
   "outputs": [],
   "source": [
    "\"\"\"\n",
    "Build compuation graph\n",
    "\"\"\"\n",
    "tf.set_random_seed(seed)\n",
    "\n",
    "W = tf.Variable(tf.random_normal([n_features, n_classes]), name='Weights')\n",
    "b = tf.Variable(tf.zeros([n_classes]), name='Biases')\n",
    "\n",
    "tf_X = tf.placeholder(tf.float32, shape=[None, n_features])\n",
    "tf_y = tf.placeholder(tf.float32, shape=[None, n_classes])\n",
    "\n",
    "output = tf.add(tf.matmul(tf_X, W), b)"
   ]
  },
  {
   "cell_type": "code",
   "execution_count": 28,
   "metadata": {},
   "outputs": [],
   "source": [
    "\"\"\"\n",
    "Create cost function\n",
    "\"\"\"\n",
    "\n",
    "# L2\n",
    "l2_cost = tf.reduce_mean(tf.square(tf.subtract(output, tf_y)))\n",
    "l2_optimizer = tf.train.AdamOptimizer(learning_rate).minimize(l2_cost)\n",
    "\n",
    "#Ridge loss function\n",
    "alpha = tf.constant([0.5])\n",
    "ridge_regularization = tf.multiply(alpha, tf.reduce_sum(tf.square(W)))\n",
    "ridge_cost = tf.add(l2_cost, ridge_regularization)\n",
    "ridge_optimizer = tf.train.AdamOptimizer(learning_rate).minimize(ridge_cost)"
   ]
  },
  {
   "cell_type": "code",
   "execution_count": 29,
   "metadata": {},
   "outputs": [],
   "source": [
    "# SSE is the sum of squared error\n",
    "sse = tf.reduce_sum(tf.square(tf.subtract(output, tf_y)))\n",
    "# SST is the sum of squared total\n",
    "sst = tf.reduce_sum(tf.square(tf.subtract(tf_y, tf.reduce_mean(tf_y))))\n",
    "\n",
    "mse = tf.reduce_mean(tf.square(tf.subtract(output, tf_y)))\n",
    "rmse = tf.sqrt(mse)\n",
    "r2 = tf.subtract(tf.constant(1.), tf.truediv(sse, sst))"
   ]
  },
  {
   "cell_type": "code",
   "execution_count": 30,
   "metadata": {},
   "outputs": [],
   "source": [
    "session = tf.Session()\n",
    "init = tf.global_variables_initializer()\n",
    "session.run(init)"
   ]
  },
  {
   "cell_type": "code",
   "execution_count": 31,
   "metadata": {},
   "outputs": [
    {
     "name": "stdout",
     "output_type": "stream",
     "text": [
      "Epoch:0/10000 - Cost:10.3806 - Train Error:3.1741 - Test Error:3.1833 - Test R2:-44.18388366699219\n",
      "\n",
      "Epoch:1000/10000 - Cost:0.0589 - Train Error:0.2425 - Test Error:0.2550 - Test R2:0.7099595069885254\n",
      "\n",
      "Epoch:2000/10000 - Cost:0.0413 - Train Error:0.2031 - Test Error:0.2090 - Test R2:0.8053005933761597\n",
      "\n",
      "Epoch:3000/10000 - Cost:0.0357 - Train Error:0.1889 - Test Error:0.1905 - Test R2:0.8381944894790649\n",
      "\n",
      "Epoch:4000/10000 - Cost:0.0344 - Train Error:0.1856 - Test Error:0.1869 - Test R2:0.8442934155464172\n",
      "\n",
      "Epoch:5000/10000 - Cost:0.0339 - Train Error:0.1842 - Test Error:0.1857 - Test R2:0.8462910652160645\n",
      "\n",
      "Epoch:6000/10000 - Cost:0.0338 - Train Error:0.1837 - Test Error:0.1854 - Test R2:0.846724808216095\n",
      "\n",
      "Epoch:7000/10000 - Cost:0.0337 - Train Error:0.1837 - Test Error:0.1854 - Test R2:0.846668004989624\n",
      "\n",
      "Epoch:8000/10000 - Cost:0.0337 - Train Error:0.1836 - Test Error:0.1854 - Test R2:0.8466806411743164\n",
      "\n",
      "Epoch:9000/10000 - Cost:0.0337 - Train Error:0.1836 - Test Error:0.1854 - Test R2:0.8467097878456116\n",
      "\n"
     ]
    }
   ],
   "source": [
    "loss = []\n",
    "train_error = []\n",
    "test_error = []\n",
    "test_r2 = []\n",
    "\n",
    "for i in range(epochs):\n",
    "    # for batch training\n",
    "#     rand_ix = np.random.choice(train_size, size=batch_size, replace=False)\n",
    "#     X_train_rand = X_train[rand_ix]\n",
    "#     y_train_rand = y_train[rand_ix]\n",
    "    \n",
    "    _, _, _cost = session.run([l2_optimizer, output, l2_cost], feed_dict={tf_X: X_train, tf_y: y_train})\n",
    "##    _, _, _cost = session.run([ridge_optimizer, output, ridge_cost], feed_dict={tf_X: X_train_rand, tf_y: y_train_rand})\n",
    "    loss.append(_cost)\n",
    "    \n",
    "    _train_error = session.run(rmse, feed_dict={tf_X: X_train, tf_y: y_train})\n",
    "    _test_error = session.run(rmse, feed_dict={tf_X:X_test, tf_y: y_test})\n",
    "    train_error.append(_train_error)\n",
    "    test_error.append(_test_error)\n",
    "    _test_r2 = session.run(r2, feed_dict={tf_X:X_test, tf_y: y_test})\n",
    "    test_r2.append(_test_r2)\n",
    "\n",
    "    if i % display_step==0:\n",
    "        print('Epoch:{}/{} - Cost:{:.4f} - Train Error:{:.4f} - Test Error:{:.4f} - Test R2:{}\\n'.format(i, epochs, _cost, _train_error, _test_error, _test_r2))"
   ]
  },
  {
   "cell_type": "code",
   "execution_count": 32,
   "metadata": {},
   "outputs": [
    {
     "data": {
      "image/png": "[encoded data removed]",
      "text/plain": [
       "<matplotlib.figure.Figure at 0x189055715c0>"
      ]
     },
     "metadata": {},
     "output_type": "display_data"
    }
   ],
   "source": [
    "plt.title('Testing Error')\n",
    "plt.xlim(0,1000)\n",
    "plt.xlabel('Steps')\n",
    "plt.plot(test_error)\n",
    "plt.show()"
   ]
  },
  {
   "cell_type": "code",
   "execution_count": 33,
   "metadata": {},
   "outputs": [],
   "source": [
    "# predict one input\n",
    "x_input = scaler.transform(course[predictors].as_matrix())\n",
    "pred = session.run(output, feed_dict={tf_X: x_input})\n",
    "final_pred = np.power(10, pred)[0][0]"
   ]
  },
  {
   "cell_type": "code",
   "execution_count": 34,
   "metadata": {},
   "outputs": [
    {
     "name": "stdout",
     "output_type": "stream",
     "text": [
      "Actual Rank=156\n",
      "Predicted Rank=155.46\n"
     ]
    }
   ],
   "source": [
    "print('Actual Rank={}'.format(course['rank'].values[0]))\n",
    "print('Predicted Rank={:.2f}'.format(final_pred))"
   ]
  },
  {
   "cell_type": "code",
   "execution_count": 35,
   "metadata": {},
   "outputs": [],
   "source": [
    "test_prediction = session.run(output, feed_dict={tf_X: X_test})"
   ]
  },
  {
   "cell_type": "code",
   "execution_count": 36,
   "metadata": {},
   "outputs": [
    {
     "data": {
      "image/png": "[encoded data removed]",
      "text/plain": [
       "<matplotlib.figure.Figure at 0x1890526db70>"
      ]
     },
     "metadata": {},
     "output_type": "display_data"
    }
   ],
   "source": [
    "sns.distplot((y_test-test_prediction))\n",
    "plt.show()"
   ]
  },
  {
   "cell_type": "code",
   "execution_count": null,
   "metadata": {},
   "outputs": [],
   "source": []
  }
 ],
 "metadata": {
  "kernelspec": {
   "display_name": "Python 3",
   "language": "python",
   "name": "python3"
  },
  "language_info": {
   "codemirror_mode": {
    "name": "ipython",
    "version": 3
   },
   "file_extension": ".py",
   "mimetype": "text/x-python",
   "name": "python",
   "nbconvert_exporter": "python",
   "pygments_lexer": "ipython3",
   "version": "3.6.4"
  }
 },
 "nbformat": 4,
 "nbformat_minor": 2
}
