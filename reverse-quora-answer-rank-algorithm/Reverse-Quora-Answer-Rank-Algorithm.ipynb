{
 "cells": [
  {
   "cell_type": "markdown",
   "metadata": {},
   "source": [
    "## Reverse Answer Rank Algorithm by Using Data Science"
   ]
  },
  {
   "cell_type": "markdown",
   "metadata": {},
   "source": [
    "**USE CASE:** \n",
    "\n",
    "Quora creates an algorithm to rank the answers on a page, the assumption is that Quora uses a wide variety of factors to determinate which anwser should be ranked higher or lower. So the question comes to my mind is what does the rank depend on? What's the secret source?\n",
    "\n",
    "Let's take the advantage of data science technology to reverse the ranking algorithm as much as possible!\n",
    "\n",
    "**SOLUTION:** \n",
    "1. Crawl all of the urls to question from a certain topic;\n",
    "2. Extract all of available attributes associated with those questions and users who answered;\n",
    "3. Analyze and explore the dataset to identify the rank signals;\n",
    "4. Build the machine learning models to predict ranking based on certain inputs.\n",
    "\n",
    "At this point, let's get started with this topic [Python (programming language)](https://www.quora.com/topic/Python-programming-language-1): https://www.quora.com/topic/Python-programming-language-1"
   ]
  },
  {
   "cell_type": "markdown",
   "metadata": {},
   "source": [
    "**GOALS:** \n",
    "\n",
    "The goal of this analysis will be able to anwser the following questions:\n",
    "* What does the anwser ranking depend on? (e.g The longer content helps the anwser rank higher)\n",
    "* If the author does XYZ things on their anwser, what's the expected rank # going to be for specific question (e.g. Refresh the content more recently)"
   ]
  },
  {
   "cell_type": "markdown",
   "metadata": {},
   "source": [
    "**RESULTS:**\n",
    "\n",
    "1. Be able to build a simple and decent Generalized Linear Model to predict the rank based on the combination of 10+ features. The R2 for test dataset is oftent around 0.4, which captures 40% of prediction information.\n",
    "2. The key rank signals seems to be content length, # of upvotes, freshness and user's authority. The can be represnted by individual features.\n",
    "3. We can see the sample size to be analyzed is <= 30 when break down to the anwsers by each rank This tens to be noisy and not statistically meaningful.\n",
    "4. Implemented the Tnesorflow Linear model as well.\n",
    "\n",
    "**NEXT:**\n",
    "\n",
    "1. Tune the parameters and implement other machine learning algorithm (e.g. Random Forest, GLMM and Deep Neural Networks) in order to find the best models\n",
    "2. Compute feature importace and test statistics hypothesis\n",
    "3. Consider collecting more data points in two ways: increase sample size and expand the feature columns\n",
    "4. Investigate if there're any low quality course (spam) get higher rank.\n",
    "5. Monitor how do these factors change over time and wisualize the metrics by Kibana "
   ]
  },
  {
   "cell_type": "markdown",
   "metadata": {},
   "source": [
    "**DISCLAIMER:**\n",
    "1. The dataset we use for this notebook is to aim to do a data scinece work, kind of academic and research, it doens't have any iscommercial purposes.\n",
    "2. The action of getting those public data for this project also follows the rules that's described by Quora's terms of service page: https://www.quora.com/about/tos\n",
    "3. Please reach out me by if you have any questions and concerns\n",
    "\n",
    "***REFRENCE:***\n",
    "* *https://engineering.quora.com/A-Machine-Learning-Approach-to-Ranking-Answers-on-Quora*\n",
    "* *https://balajiviswanathan.quora.com/Power-User-Tips-Reverse-Engineering-the-Quoras-Answer-Ranking-Algorithm*\n",
    "* *https://www.quora.com/How-does-the-ranking-of-answers-on-Quora-work*"
   ]
  },
  {
   "cell_type": "code",
   "execution_count": 2,
   "metadata": {},
   "outputs": [],
   "source": [
    "\"\"\"\n",
    "1. quora is a customized python moudle to deal with the data manipulation for this dataset \n",
    "2. pystats is a high level package that I built on top of a range of statsitics open source\n",
    "\"\"\"\n",
    "import quora\n",
    "from quora import QuoraClient, ElasticSearchClient\n",
    "\n",
    "import numpy as np\n",
    "import pystats as ps\n",
    "from pystats.models import Model, ModelSetting, LinearRegressorModel, TreeRegressorModel\n",
    "import seaborn as sns\n",
    "import matplotlib.pyplot as plt\n",
    "%matplotlib inline"
   ]
  },
  {
   "cell_type": "markdown",
   "metadata": {},
   "source": [
    "### Crawl Topic Page"
   ]
  },
  {
   "cell_type": "code",
   "execution_count": 8,
   "metadata": {},
   "outputs": [
    {
     "name": "stdout",
     "output_type": "stream",
     "text": [
      "\"Mozilla/5.0 (Windows NT 10.0; Win64; x64) AppleWebKit/537.36 (KHTML, like Gecko) Chrome/127.0.0.1 Safari/537.36\"\n"
     ]
    }
   ],
   "source": [
    "\"\"\"\n",
    "Set up a Quora client\n",
    "\"\"\"\n",
    "user_agent = 'Mozilla/5.0 (Windows NT 10.0; Win64; x64) AppleWebKit/537.36 (KHTML, like Gecko) Chrome/127.0.0.1 Safari/537.36'\n",
    "qc = QuoraClient(user_agent=user_agent)\n",
    "\n",
    "# print user agent to check\n",
    "qc.print_user_agent()"
   ]
  },
  {
   "cell_type": "code",
   "execution_count": 3,
   "metadata": {},
   "outputs": [],
   "source": [
    "\"\"\"\n",
    "1. Visit the python topic\n",
    "2. Extract the links to question from topic\n",
    "3. Save to local file - questions.txt\n",
    "\"\"\"\n",
    "\n",
    "topic_seed = 'https://www.quora.com/topic/Python-programming-language-1'\n",
    "question_urls_file_path = 'data/questions.txt'\n",
    "\n",
    "question_links_gen = qc.get_questions_from_single_topic(topic_seed)\n",
    "\n",
    "if False:\n",
    "    quora.write_content_to_file(question_urls_file_path, '\\n'.join(set(question_links_gen)))"
   ]
  },
  {
   "cell_type": "code",
   "execution_count": 8,
   "metadata": {},
   "outputs": [],
   "source": [
    "# Retrive the questions from the file\n",
    "questions = quora.get_questions_list(question_urls_file_path)"
   ]
  },
  {
   "cell_type": "code",
   "execution_count": 9,
   "metadata": {},
   "outputs": [
    {
     "data": {
      "text/plain": [
       "76"
      ]
     },
     "execution_count": 9,
     "metadata": {},
     "output_type": "execute_result"
    }
   ],
   "source": [
    "len(questions)"
   ]
  },
  {
   "cell_type": "markdown",
   "metadata": {},
   "source": [
    "### Crawl Question Page"
   ]
  },
  {
   "cell_type": "code",
   "execution_count": 4,
   "metadata": {},
   "outputs": [],
   "source": [
    "\"\"\"\n",
    "Login Quora\n",
    "\"\"\"\n",
    "email, password = quora.get_credential(config='conf.yaml')\n",
    "qc.login(email, password)"
   ]
  },
  {
   "cell_type": "code",
   "execution_count": 17,
   "metadata": {},
   "outputs": [],
   "source": [
    "# crawl all of questions urls and save to local\n",
    "\n",
    "questions_dir = 'data/questions/'\n",
    "if False:\n",
    "    qc.crawl(questions, save_dir=questions_dir, max_scroll_down_times=2000)\n",
    "    # test single url\n",
    "    # qc.crawl(['https://www.quora.com/Can-C-do-everything-that-Python-can'],save_dir=questions_dir, max_scroll_down_times=200)"
   ]
  },
  {
   "cell_type": "code",
   "execution_count": 18,
   "metadata": {},
   "outputs": [],
   "source": [
    "\"\"\"\n",
    "Identify the final list of questions that are qualified\n",
    "\"\"\"\n",
    "question_files = quora.list_all_files(questions_dir)\n",
    "#htmls = quora.get_all_htmls(files)\n",
    "\n",
    "def final_questions_gen():\n",
    "    for file in question_files:\n",
    "        html = quora.read_content_from_file(file)\n",
    "        soup = quora.create_soup(html)\n",
    "        answer_count = int(soup.find('div', attrs={'class': 'answer_count'}).text.split()[0].rstrip('+'))\n",
    "        items = soup.find_all('div', attrs={'class': 'Answer AnswerBase'})\n",
    "        if len(items) == answer_count:\n",
    "            yield file\n",
    "            \n",
    "final_questions = list(final_questions_gen())\n",
    "final_questions_file_path = 'data/final_questions.txt'\n",
    "quora.write_content_to_file(final_questions_file_path, '\\n'.join(final_questions))"
   ]
  },
  {
   "cell_type": "code",
   "execution_count": 19,
   "metadata": {},
   "outputs": [
    {
     "data": {
      "text/plain": [
       "32"
      ]
     },
     "execution_count": 19,
     "metadata": {},
     "output_type": "execute_result"
    }
   ],
   "source": [
    "len(final_questions)"
   ]
  },
  {
   "cell_type": "code",
   "execution_count": 51,
   "metadata": {},
   "outputs": [],
   "source": [
    "final_question_htmls = []\n",
    "with open(final_questions_file_path, 'r+', encoding='utf-8') as f:\n",
    "    for line in f.readlines():\n",
    "        line = line.rstrip('\\n')\n",
    "        final_question_htmls.append(quora.read_content_from_file(line))\n",
    "    f.close()"
   ]
  },
  {
   "cell_type": "code",
   "execution_count": 52,
   "metadata": {},
   "outputs": [
    {
     "data": {
      "text/plain": [
       "32"
      ]
     },
     "execution_count": 52,
     "metadata": {},
     "output_type": "execute_result"
    }
   ],
   "source": [
    "len(final_question_htmls)"
   ]
  },
  {
   "cell_type": "markdown",
   "metadata": {},
   "source": [
    "### Crawl Users Profile"
   ]
  },
  {
   "cell_type": "code",
   "execution_count": 21,
   "metadata": {},
   "outputs": [],
   "source": [
    "users_file_path = 'data/final_users.txt'"
   ]
  },
  {
   "cell_type": "code",
   "execution_count": 35,
   "metadata": {},
   "outputs": [],
   "source": [
    "def final_users_gen():\n",
    "    for html in final_question_htmls:\n",
    "        soup = quora.create_soup(html)\n",
    "        answer_count = int(soup.find('div', attrs={'class': 'answer_count'}).text.split()[0].rstrip('+'))\n",
    "        items = soup.find_all('div', attrs={'class': 'Answer AnswerBase'})\n",
    "        for item in items:\n",
    "            profile_link = item.find('a', attrs={'class':'user'})\n",
    "            if profile_link is not None:\n",
    "                yield qc.quora_homepage + profile_link['href']\n",
    "\n",
    "quora.write_content_to_file(users_file_path, '\\n'.join(set(final_users_gen())))"
   ]
  },
  {
   "cell_type": "code",
   "execution_count": 22,
   "metadata": {},
   "outputs": [],
   "source": [
    "user_urls = []\n",
    "with open(users_file_path, 'r+', encoding='utf-8') as f:\n",
    "    for line in f.readlines():\n",
    "        line = line.rstrip('\\n')\n",
    "        user_urls.append(line)\n",
    "    f.close()"
   ]
  },
  {
   "cell_type": "code",
   "execution_count": 23,
   "metadata": {},
   "outputs": [
    {
     "data": {
      "text/plain": [
       "625"
      ]
     },
     "execution_count": 23,
     "metadata": {},
     "output_type": "execute_result"
    }
   ],
   "source": [
    "len(user_urls)"
   ]
  },
  {
   "cell_type": "code",
   "execution_count": 20,
   "metadata": {
    "code_folding": []
   },
   "outputs": [],
   "source": [
    "# crawl all of users urls and save to local\n",
    "users_dir = 'data/users/'\n",
    "if False:\n",
    "    qc.crawl(user_urls, save_dir=users_dir, sleep=4, max_scroll_down_times=3)"
   ]
  },
  {
   "cell_type": "code",
   "execution_count": 24,
   "metadata": {},
   "outputs": [],
   "source": [
    "users_mapping = dict()\n",
    "\n",
    "for url in user_urls:\n",
    "    users_mapping[quora.to_hash(url)] = url"
   ]
  },
  {
   "cell_type": "code",
   "execution_count": 9,
   "metadata": {},
   "outputs": [],
   "source": [
    "qc.shutdown()"
   ]
  },
  {
   "cell_type": "markdown",
   "metadata": {},
   "source": [
    "### Save Data to ElasticSearch"
   ]
  },
  {
   "cell_type": "code",
   "execution_count": 6,
   "metadata": {},
   "outputs": [],
   "source": [
    "esc = ElasticSearchClient()"
   ]
  },
  {
   "cell_type": "code",
   "execution_count": 7,
   "metadata": {},
   "outputs": [
    {
     "name": "stdout",
     "output_type": "stream",
     "text": [
      "Connected!\n"
     ]
    }
   ],
   "source": [
    "es = esc.connect()"
   ]
  },
  {
   "cell_type": "code",
   "execution_count": 8,
   "metadata": {},
   "outputs": [
    {
     "data": {
      "text/plain": [
       "{'cluster_name': 'elasticsearch',\n",
       " 'cluster_uuid': 'TQpMsFbbQXqm1t3GKLDoeA',\n",
       " 'name': '0pcvYyN',\n",
       " 'tagline': 'You Know, for Search',\n",
       " 'version': {'build_date': '2018-08-17T23:18:47.308994Z',\n",
       "  'build_flavor': 'default',\n",
       "  'build_hash': '595516e',\n",
       "  'build_snapshot': False,\n",
       "  'build_type': 'zip',\n",
       "  'lucene_version': '7.4.0',\n",
       "  'minimum_index_compatibility_version': '5.0.0',\n",
       "  'minimum_wire_compatibility_version': '5.6.0',\n",
       "  'number': '6.4.0'}}"
      ]
     },
     "execution_count": 8,
     "metadata": {},
     "output_type": "execute_result"
    }
   ],
   "source": [
    "es.info()"
   ]
  },
  {
   "cell_type": "code",
   "execution_count": 5,
   "metadata": {},
   "outputs": [
    {
     "data": {
      "text/plain": [
       "True"
      ]
     },
     "execution_count": 5,
     "metadata": {},
     "output_type": "execute_result"
    }
   ],
   "source": [
    "esc.is_exist(es, 'quora_user')"
   ]
  },
  {
   "cell_type": "code",
   "execution_count": 9,
   "metadata": {},
   "outputs": [
    {
     "data": {
      "text/plain": [
       "True"
      ]
     },
     "execution_count": 9,
     "metadata": {},
     "output_type": "execute_result"
    }
   ],
   "source": [
    "esc.create_mapping(es, quora.load_es_mapping(type='anwser'), index_name='quora_answer')"
   ]
  },
  {
   "cell_type": "code",
   "execution_count": 8,
   "metadata": {},
   "outputs": [
    {
     "name": "stdout",
     "output_type": "stream",
     "text": [
      "Wall time: 0 ns\n"
     ]
    }
   ],
   "source": [
    "%time\n",
    "esc.bulk(es, quora.users_info_gen(), index='quora_user', doc_type='quora_user')"
   ]
  },
  {
   "cell_type": "code",
   "execution_count": 10,
   "metadata": {},
   "outputs": [
    {
     "name": "stdout",
     "output_type": "stream",
     "text": [
      "Wall time: 0 ns\n"
     ]
    }
   ],
   "source": [
    "%time\n",
    "esc.bulk(es, quora.answers_info_gen(), index='quora_answer', doc_type='quora_answer')"
   ]
  },
  {
   "cell_type": "markdown",
   "metadata": {},
   "source": [
    "### Load Data"
   ]
  },
  {
   "cell_type": "code",
   "execution_count": 9,
   "metadata": {},
   "outputs": [],
   "source": [
    "\"\"\"\n",
    "1. Export the dataset from the ElasticSearch index\n",
    "2. Join anwsers and users table\n",
    "3. Feature engineering (The detailed code is in quora module)\n",
    "\"\"\"\n",
    "\n",
    "\n",
    "users_data = esc.to_table_from_index(es, index_name='quora_user')\n",
    "answers_data = esc.to_table_from_index(es, index_name='quora_answer')\n",
    "\n",
    "users_table = quora.build_user_table(users_data)\n",
    "answers_table = quora.build_anwser_table(answers_data)"
   ]
  },
  {
   "cell_type": "code",
   "execution_count": 10,
   "metadata": {},
   "outputs": [
    {
     "data": {
      "text/html": [
       "<div>\n",
       "<style scoped>\n",
       "    .dataframe tbody tr th:only-of-type {\n",
       "        vertical-align: middle;\n",
       "    }\n",
       "\n",
       "    .dataframe tbody tr th {\n",
       "        vertical-align: top;\n",
       "    }\n",
       "\n",
       "    .dataframe thead th {\n",
       "        text-align: right;\n",
       "    }\n",
       "</style>\n",
       "<table border=\"1\" class=\"dataframe\">\n",
       "  <thead>\n",
       "    <tr style=\"text-align: right;\">\n",
       "      <th></th>\n",
       "      <th>answer_views</th>\n",
       "      <th>answer_views_this_month</th>\n",
       "      <th>answers</th>\n",
       "      <th>followers</th>\n",
       "      <th>following</th>\n",
       "      <th>posts</th>\n",
       "      <th>questions</th>\n",
       "      <th>topics</th>\n",
       "      <th>user_file_name</th>\n",
       "      <th>user_url</th>\n",
       "    </tr>\n",
       "  </thead>\n",
       "  <tbody>\n",
       "    <tr>\n",
       "      <th>0</th>\n",
       "      <td>78k answer views</td>\n",
       "      <td>5.8k this month</td>\n",
       "      <td>166</td>\n",
       "      <td>22</td>\n",
       "      <td>0</td>\n",
       "      <td>0</td>\n",
       "      <td>6</td>\n",
       "      <td>16</td>\n",
       "      <td>data/users/015b508f9640597ac2f0919535c275d2.txt</td>\n",
       "      <td>https://www.quora.com/profile/Charles-H-Luck</td>\n",
       "    </tr>\n",
       "    <tr>\n",
       "      <th>1</th>\n",
       "      <td>188.5k answer views</td>\n",
       "      <td>25.3k this month</td>\n",
       "      <td>412</td>\n",
       "      <td>67</td>\n",
       "      <td>0</td>\n",
       "      <td>0</td>\n",
       "      <td>0</td>\n",
       "      <td>78</td>\n",
       "      <td>data/users/00f7094b13ba7988fcc34a2ffd5a60e0.txt</td>\n",
       "      <td>https://www.quora.com/profile/Apoorva-Roy-7</td>\n",
       "    </tr>\n",
       "  </tbody>\n",
       "</table>\n",
       "</div>"
      ],
      "text/plain": [
       "          answer_views answer_views_this_month answers followers following  \\\n",
       "0     78k answer views         5.8k this month     166        22         0   \n",
       "1  188.5k answer views        25.3k this month     412        67         0   \n",
       "\n",
       "  posts questions topics                                   user_file_name  \\\n",
       "0     0         6     16  data/users/015b508f9640597ac2f0919535c275d2.txt   \n",
       "1     0         0     78  data/users/00f7094b13ba7988fcc34a2ffd5a60e0.txt   \n",
       "\n",
       "                                       user_url  \n",
       "0  https://www.quora.com/profile/Charles-H-Luck  \n",
       "1   https://www.quora.com/profile/Apoorva-Roy-7  "
      ]
     },
     "execution_count": 10,
     "metadata": {},
     "output_type": "execute_result"
    }
   ],
   "source": [
    "users_data.head(2)"
   ]
  },
  {
   "cell_type": "code",
   "execution_count": 11,
   "metadata": {},
   "outputs": [
    {
     "data": {
      "text/html": [
       "<div>\n",
       "<style scoped>\n",
       "    .dataframe tbody tr th:only-of-type {\n",
       "        vertical-align: middle;\n",
       "    }\n",
       "\n",
       "    .dataframe tbody tr th {\n",
       "        vertical-align: top;\n",
       "    }\n",
       "\n",
       "    .dataframe thead th {\n",
       "        text-align: right;\n",
       "    }\n",
       "</style>\n",
       "<table border=\"1\" class=\"dataframe\">\n",
       "  <thead>\n",
       "    <tr style=\"text-align: right;\">\n",
       "      <th></th>\n",
       "      <th>user_url</th>\n",
       "      <th>answer_views</th>\n",
       "      <th>answer_views_this_month</th>\n",
       "      <th>answers</th>\n",
       "      <th>followers</th>\n",
       "      <th>following</th>\n",
       "      <th>posts</th>\n",
       "      <th>questions</th>\n",
       "      <th>topics</th>\n",
       "    </tr>\n",
       "  </thead>\n",
       "  <tbody>\n",
       "    <tr>\n",
       "      <th>0</th>\n",
       "      <td>https://www.quora.com/profile/Charles-H-Luck</td>\n",
       "      <td>78000</td>\n",
       "      <td>5800</td>\n",
       "      <td>166</td>\n",
       "      <td>22</td>\n",
       "      <td>0</td>\n",
       "      <td>0</td>\n",
       "      <td>6</td>\n",
       "      <td>16</td>\n",
       "    </tr>\n",
       "    <tr>\n",
       "      <th>1</th>\n",
       "      <td>https://www.quora.com/profile/Apoorva-Roy-7</td>\n",
       "      <td>188500</td>\n",
       "      <td>25300</td>\n",
       "      <td>412</td>\n",
       "      <td>67</td>\n",
       "      <td>0</td>\n",
       "      <td>0</td>\n",
       "      <td>0</td>\n",
       "      <td>78</td>\n",
       "    </tr>\n",
       "  </tbody>\n",
       "</table>\n",
       "</div>"
      ],
      "text/plain": [
       "                                       user_url  answer_views  \\\n",
       "0  https://www.quora.com/profile/Charles-H-Luck         78000   \n",
       "1   https://www.quora.com/profile/Apoorva-Roy-7        188500   \n",
       "\n",
       "   answer_views_this_month  answers  followers  following  posts  questions  \\\n",
       "0                     5800      166         22          0      0          6   \n",
       "1                    25300      412         67          0      0          0   \n",
       "\n",
       "   topics  \n",
       "0      16  \n",
       "1      78  "
      ]
     },
     "execution_count": 11,
     "metadata": {},
     "output_type": "execute_result"
    }
   ],
   "source": [
    "users_table.head(2)"
   ]
  },
  {
   "cell_type": "code",
   "execution_count": 12,
   "metadata": {},
   "outputs": [
    {
     "name": "stdout",
     "output_type": "stream",
     "text": [
      "<class 'pystats.ops.table.PyTable'>\n",
      "RangeIndex: 625 entries, 0 to 624\n",
      "Data columns (total 9 columns):\n",
      "user_url                   625 non-null object\n",
      "answer_views               625 non-null int64\n",
      "answer_views_this_month    625 non-null int64\n",
      "answers                    625 non-null int64\n",
      "followers                  625 non-null int64\n",
      "following                  625 non-null int64\n",
      "posts                      625 non-null int64\n",
      "questions                  625 non-null int64\n",
      "topics                     625 non-null int64\n",
      "dtypes: int64(8), object(1)\n",
      "memory usage: 44.0+ KB\n"
     ]
    }
   ],
   "source": [
    "users_table.info()"
   ]
  },
  {
   "cell_type": "code",
   "execution_count": 13,
   "metadata": {},
   "outputs": [
    {
     "data": {
      "text/html": [
       "<div>\n",
       "<style scoped>\n",
       "    .dataframe tbody tr th:only-of-type {\n",
       "        vertical-align: middle;\n",
       "    }\n",
       "\n",
       "    .dataframe tbody tr th {\n",
       "        vertical-align: top;\n",
       "    }\n",
       "\n",
       "    .dataframe thead th {\n",
       "        text-align: right;\n",
       "    }\n",
       "</style>\n",
       "<table border=\"1\" class=\"dataframe\">\n",
       "  <thead>\n",
       "    <tr style=\"text-align: right;\">\n",
       "      <th></th>\n",
       "      <th>answer_date</th>\n",
       "      <th>answers</th>\n",
       "      <th>author</th>\n",
       "      <th>content</th>\n",
       "      <th>crawled_date</th>\n",
       "      <th>created_date</th>\n",
       "      <th>number_of_a_tags</th>\n",
       "      <th>number_of_images</th>\n",
       "      <th>question</th>\n",
       "      <th>question_url</th>\n",
       "      <th>rank</th>\n",
       "      <th>upvotes</th>\n",
       "      <th>user_url</th>\n",
       "      <th>views</th>\n",
       "    </tr>\n",
       "  </thead>\n",
       "  <tbody>\n",
       "    <tr>\n",
       "      <th>0</th>\n",
       "      <td>Answered Oct 9, 2016</td>\n",
       "      <td>100</td>\n",
       "      <td>Kenneth Goodman</td>\n",
       "      <td>Stanford put out a great Python tutorial with ...</td>\n",
       "      <td>2018-09-26</td>\n",
       "      <td>2018-09-26</td>\n",
       "      <td>8</td>\n",
       "      <td>0</td>\n",
       "      <td>My boss gave me 30 days (not working days) to ...</td>\n",
       "      <td>https://www.quora.com/My-boss-gave-me-30-days-...</td>\n",
       "      <td>5</td>\n",
       "      <td>743</td>\n",
       "      <td>https://www.quora.com/profile/Kenneth-Goodman-4</td>\n",
       "      <td>104.4k</td>\n",
       "    </tr>\n",
       "    <tr>\n",
       "      <th>1</th>\n",
       "      <td>Answered Mar 2</td>\n",
       "      <td>100</td>\n",
       "      <td>Stephen M Greenfield</td>\n",
       "      <td>Although there’s a lot of great answers about ...</td>\n",
       "      <td>2018-09-26</td>\n",
       "      <td>2018-09-26</td>\n",
       "      <td>0</td>\n",
       "      <td>0</td>\n",
       "      <td>My boss gave me 30 days (not working days) to ...</td>\n",
       "      <td>https://www.quora.com/My-boss-gave-me-30-days-...</td>\n",
       "      <td>13</td>\n",
       "      <td>3</td>\n",
       "      <td>https://www.quora.com/profile/Stephen-M-Greenf...</td>\n",
       "      <td>1.3k</td>\n",
       "    </tr>\n",
       "  </tbody>\n",
       "</table>\n",
       "</div>"
      ],
      "text/plain": [
       "            answer_date  answers                author  \\\n",
       "0  Answered Oct 9, 2016      100       Kenneth Goodman   \n",
       "1        Answered Mar 2      100  Stephen M Greenfield   \n",
       "\n",
       "                                             content crawled_date  \\\n",
       "0  Stanford put out a great Python tutorial with ...   2018-09-26   \n",
       "1  Although there’s a lot of great answers about ...   2018-09-26   \n",
       "\n",
       "  created_date  number_of_a_tags  number_of_images  \\\n",
       "0   2018-09-26                 8                 0   \n",
       "1   2018-09-26                 0                 0   \n",
       "\n",
       "                                            question  \\\n",
       "0  My boss gave me 30 days (not working days) to ...   \n",
       "1  My boss gave me 30 days (not working days) to ...   \n",
       "\n",
       "                                        question_url  rank upvotes  \\\n",
       "0  https://www.quora.com/My-boss-gave-me-30-days-...     5     743   \n",
       "1  https://www.quora.com/My-boss-gave-me-30-days-...    13       3   \n",
       "\n",
       "                                            user_url   views  \n",
       "0    https://www.quora.com/profile/Kenneth-Goodman-4  104.4k  \n",
       "1  https://www.quora.com/profile/Stephen-M-Greenf...    1.3k  "
      ]
     },
     "execution_count": 13,
     "metadata": {},
     "output_type": "execute_result"
    }
   ],
   "source": [
    "answers_data.head(2)"
   ]
  },
  {
   "cell_type": "code",
   "execution_count": 14,
   "metadata": {},
   "outputs": [
    {
     "data": {
      "text/html": [
       "<div>\n",
       "<style scoped>\n",
       "    .dataframe tbody tr th:only-of-type {\n",
       "        vertical-align: middle;\n",
       "    }\n",
       "\n",
       "    .dataframe tbody tr th {\n",
       "        vertical-align: top;\n",
       "    }\n",
       "\n",
       "    .dataframe thead th {\n",
       "        text-align: right;\n",
       "    }\n",
       "</style>\n",
       "<table border=\"1\" class=\"dataframe\">\n",
       "  <thead>\n",
       "    <tr style=\"text-align: right;\">\n",
       "      <th></th>\n",
       "      <th>question_url</th>\n",
       "      <th>user_url</th>\n",
       "      <th>answers</th>\n",
       "      <th>rank</th>\n",
       "      <th>number_of_a_tags</th>\n",
       "      <th>number_of_images</th>\n",
       "      <th>views</th>\n",
       "      <th>upvotes</th>\n",
       "      <th>content_word_count</th>\n",
       "      <th>days_since_last_modified</th>\n",
       "    </tr>\n",
       "  </thead>\n",
       "  <tbody>\n",
       "    <tr>\n",
       "      <th>0</th>\n",
       "      <td>https://www.quora.com/My-boss-gave-me-30-days-...</td>\n",
       "      <td>https://www.quora.com/profile/Kenneth-Goodman-4</td>\n",
       "      <td>100</td>\n",
       "      <td>5</td>\n",
       "      <td>8</td>\n",
       "      <td>0</td>\n",
       "      <td>104400</td>\n",
       "      <td>743</td>\n",
       "      <td>270</td>\n",
       "      <td>717</td>\n",
       "    </tr>\n",
       "    <tr>\n",
       "      <th>1</th>\n",
       "      <td>https://www.quora.com/My-boss-gave-me-30-days-...</td>\n",
       "      <td>https://www.quora.com/profile/Stephen-M-Greenf...</td>\n",
       "      <td>100</td>\n",
       "      <td>13</td>\n",
       "      <td>0</td>\n",
       "      <td>0</td>\n",
       "      <td>1300</td>\n",
       "      <td>3</td>\n",
       "      <td>275</td>\n",
       "      <td>208</td>\n",
       "    </tr>\n",
       "  </tbody>\n",
       "</table>\n",
       "</div>"
      ],
      "text/plain": [
       "                                        question_url  \\\n",
       "0  https://www.quora.com/My-boss-gave-me-30-days-...   \n",
       "1  https://www.quora.com/My-boss-gave-me-30-days-...   \n",
       "\n",
       "                                            user_url  answers  rank  \\\n",
       "0    https://www.quora.com/profile/Kenneth-Goodman-4      100     5   \n",
       "1  https://www.quora.com/profile/Stephen-M-Greenf...      100    13   \n",
       "\n",
       "   number_of_a_tags  number_of_images   views  upvotes  content_word_count  \\\n",
       "0                 8                 0  104400      743                 270   \n",
       "1                 0                 0    1300        3                 275   \n",
       "\n",
       "   days_since_last_modified  \n",
       "0                       717  \n",
       "1                       208  "
      ]
     },
     "execution_count": 14,
     "metadata": {},
     "output_type": "execute_result"
    }
   ],
   "source": [
    "answers_table.head(2)"
   ]
  },
  {
   "cell_type": "code",
   "execution_count": 15,
   "metadata": {},
   "outputs": [
    {
     "name": "stdout",
     "output_type": "stream",
     "text": [
      "<class 'pystats.ops.table.PyTable'>\n",
      "RangeIndex: 672 entries, 0 to 671\n",
      "Data columns (total 14 columns):\n",
      "answer_date         672 non-null object\n",
      "answers             672 non-null int64\n",
      "author              668 non-null object\n",
      "content             672 non-null object\n",
      "crawled_date        672 non-null object\n",
      "created_date        672 non-null object\n",
      "number_of_a_tags    672 non-null int64\n",
      "number_of_images    672 non-null int64\n",
      "question            672 non-null object\n",
      "question_url        672 non-null object\n",
      "rank                672 non-null int64\n",
      "upvotes             672 non-null object\n",
      "user_url            668 non-null object\n",
      "views               672 non-null object\n",
      "dtypes: int64(4), object(10)\n",
      "memory usage: 73.6+ KB\n"
     ]
    }
   ],
   "source": [
    "answers_data.info()"
   ]
  },
  {
   "cell_type": "code",
   "execution_count": 16,
   "metadata": {},
   "outputs": [],
   "source": [
    "\"\"\"\n",
    "Join two table\n",
    "\n",
    "\"\"\"\n",
    "data = answers_table.merge(users_table, how='left', left_on=['user_url'], \n",
    "                           right_on=['user_url'], suffixes=('_of_question', '_of_user'))\n",
    "\n",
    "# take the log of the rank numner becasue we need to apply to GLM in the following (rank is always non-negative)\n",
    "data['rank_log'] = data['rank'].apply(np.log10)"
   ]
  },
  {
   "cell_type": "markdown",
   "metadata": {},
   "source": [
    "### EDA"
   ]
  },
  {
   "cell_type": "code",
   "execution_count": 17,
   "metadata": {},
   "outputs": [
    {
     "data": {
      "text/html": [
       "<div>\n",
       "<style scoped>\n",
       "    .dataframe tbody tr th:only-of-type {\n",
       "        vertical-align: middle;\n",
       "    }\n",
       "\n",
       "    .dataframe tbody tr th {\n",
       "        vertical-align: top;\n",
       "    }\n",
       "\n",
       "    .dataframe thead th {\n",
       "        text-align: right;\n",
       "    }\n",
       "</style>\n",
       "<table border=\"1\" class=\"dataframe\">\n",
       "  <thead>\n",
       "    <tr style=\"text-align: right;\">\n",
       "      <th></th>\n",
       "      <th>question_url</th>\n",
       "      <th>user_url</th>\n",
       "      <th>answers_of_question</th>\n",
       "      <th>rank</th>\n",
       "      <th>number_of_a_tags</th>\n",
       "      <th>number_of_images</th>\n",
       "      <th>views</th>\n",
       "      <th>upvotes</th>\n",
       "      <th>content_word_count</th>\n",
       "      <th>days_since_last_modified</th>\n",
       "      <th>answer_views</th>\n",
       "      <th>answer_views_this_month</th>\n",
       "      <th>answers_of_user</th>\n",
       "      <th>followers</th>\n",
       "      <th>following</th>\n",
       "      <th>posts</th>\n",
       "      <th>questions</th>\n",
       "      <th>topics</th>\n",
       "      <th>rank_log</th>\n",
       "    </tr>\n",
       "  </thead>\n",
       "  <tbody>\n",
       "    <tr>\n",
       "      <th>0</th>\n",
       "      <td>https://www.quora.com/My-boss-gave-me-30-days-...</td>\n",
       "      <td>https://www.quora.com/profile/Kenneth-Goodman-4</td>\n",
       "      <td>100</td>\n",
       "      <td>5</td>\n",
       "      <td>8</td>\n",
       "      <td>0</td>\n",
       "      <td>104400</td>\n",
       "      <td>743</td>\n",
       "      <td>270</td>\n",
       "      <td>717</td>\n",
       "      <td>181900.0</td>\n",
       "      <td>6100.0</td>\n",
       "      <td>68.0</td>\n",
       "      <td>140.0</td>\n",
       "      <td>1.0</td>\n",
       "      <td>1.0</td>\n",
       "      <td>1.0</td>\n",
       "      <td>33.0</td>\n",
       "      <td>0.698970</td>\n",
       "    </tr>\n",
       "    <tr>\n",
       "      <th>1</th>\n",
       "      <td>https://www.quora.com/My-boss-gave-me-30-days-...</td>\n",
       "      <td>https://www.quora.com/profile/Stephen-M-Greenf...</td>\n",
       "      <td>100</td>\n",
       "      <td>13</td>\n",
       "      <td>0</td>\n",
       "      <td>0</td>\n",
       "      <td>1300</td>\n",
       "      <td>3</td>\n",
       "      <td>275</td>\n",
       "      <td>208</td>\n",
       "      <td>526800.0</td>\n",
       "      <td>12100.0</td>\n",
       "      <td>41.0</td>\n",
       "      <td>144.0</td>\n",
       "      <td>97.0</td>\n",
       "      <td>0.0</td>\n",
       "      <td>5.0</td>\n",
       "      <td>40.0</td>\n",
       "      <td>1.113943</td>\n",
       "    </tr>\n",
       "    <tr>\n",
       "      <th>2</th>\n",
       "      <td>https://www.quora.com/My-boss-gave-me-30-days-...</td>\n",
       "      <td>https://www.quora.com/profile/Debanjan-Sengupta-7</td>\n",
       "      <td>100</td>\n",
       "      <td>1</td>\n",
       "      <td>2</td>\n",
       "      <td>0</td>\n",
       "      <td>15600</td>\n",
       "      <td>46</td>\n",
       "      <td>267</td>\n",
       "      <td>489</td>\n",
       "      <td>0.0</td>\n",
       "      <td>0.0</td>\n",
       "      <td>229.0</td>\n",
       "      <td>1036.0</td>\n",
       "      <td>1529.0</td>\n",
       "      <td>0.0</td>\n",
       "      <td>111.0</td>\n",
       "      <td>797.0</td>\n",
       "      <td>0.000000</td>\n",
       "    </tr>\n",
       "    <tr>\n",
       "      <th>3</th>\n",
       "      <td>https://www.quora.com/My-boss-gave-me-30-days-...</td>\n",
       "      <td>https://www.quora.com/profile/Siddharth-Dikshit-1</td>\n",
       "      <td>100</td>\n",
       "      <td>7</td>\n",
       "      <td>1</td>\n",
       "      <td>0</td>\n",
       "      <td>1300</td>\n",
       "      <td>3</td>\n",
       "      <td>183</td>\n",
       "      <td>216</td>\n",
       "      <td>2800.0</td>\n",
       "      <td>162.0</td>\n",
       "      <td>12.0</td>\n",
       "      <td>49.0</td>\n",
       "      <td>76.0</td>\n",
       "      <td>0.0</td>\n",
       "      <td>0.0</td>\n",
       "      <td>94.0</td>\n",
       "      <td>0.845098</td>\n",
       "    </tr>\n",
       "    <tr>\n",
       "      <th>4</th>\n",
       "      <td>https://www.quora.com/My-boss-gave-me-30-days-...</td>\n",
       "      <td>https://www.quora.com/profile/Bob-Jones-38</td>\n",
       "      <td>100</td>\n",
       "      <td>15</td>\n",
       "      <td>0</td>\n",
       "      <td>0</td>\n",
       "      <td>1000</td>\n",
       "      <td>6</td>\n",
       "      <td>455</td>\n",
       "      <td>94</td>\n",
       "      <td>901000.0</td>\n",
       "      <td>2300.0</td>\n",
       "      <td>89.0</td>\n",
       "      <td>881.0</td>\n",
       "      <td>29.0</td>\n",
       "      <td>0.0</td>\n",
       "      <td>13.0</td>\n",
       "      <td>25.0</td>\n",
       "      <td>1.176091</td>\n",
       "    </tr>\n",
       "  </tbody>\n",
       "</table>\n",
       "</div>"
      ],
      "text/plain": [
       "                                        question_url  \\\n",
       "0  https://www.quora.com/My-boss-gave-me-30-days-...   \n",
       "1  https://www.quora.com/My-boss-gave-me-30-days-...   \n",
       "2  https://www.quora.com/My-boss-gave-me-30-days-...   \n",
       "3  https://www.quora.com/My-boss-gave-me-30-days-...   \n",
       "4  https://www.quora.com/My-boss-gave-me-30-days-...   \n",
       "\n",
       "                                            user_url  answers_of_question  \\\n",
       "0    https://www.quora.com/profile/Kenneth-Goodman-4                  100   \n",
       "1  https://www.quora.com/profile/Stephen-M-Greenf...                  100   \n",
       "2  https://www.quora.com/profile/Debanjan-Sengupta-7                  100   \n",
       "3  https://www.quora.com/profile/Siddharth-Dikshit-1                  100   \n",
       "4         https://www.quora.com/profile/Bob-Jones-38                  100   \n",
       "\n",
       "   rank  number_of_a_tags  number_of_images   views  upvotes  \\\n",
       "0     5                 8                 0  104400      743   \n",
       "1    13                 0                 0    1300        3   \n",
       "2     1                 2                 0   15600       46   \n",
       "3     7                 1                 0    1300        3   \n",
       "4    15                 0                 0    1000        6   \n",
       "\n",
       "   content_word_count  days_since_last_modified  answer_views  \\\n",
       "0                 270                       717      181900.0   \n",
       "1                 275                       208      526800.0   \n",
       "2                 267                       489           0.0   \n",
       "3                 183                       216        2800.0   \n",
       "4                 455                        94      901000.0   \n",
       "\n",
       "   answer_views_this_month  answers_of_user  followers  following  posts  \\\n",
       "0                   6100.0             68.0      140.0        1.0    1.0   \n",
       "1                  12100.0             41.0      144.0       97.0    0.0   \n",
       "2                      0.0            229.0     1036.0     1529.0    0.0   \n",
       "3                    162.0             12.0       49.0       76.0    0.0   \n",
       "4                   2300.0             89.0      881.0       29.0    0.0   \n",
       "\n",
       "   questions  topics  rank_log  \n",
       "0        1.0    33.0  0.698970  \n",
       "1        5.0    40.0  1.113943  \n",
       "2      111.0   797.0  0.000000  \n",
       "3        0.0    94.0  0.845098  \n",
       "4       13.0    25.0  1.176091  "
      ]
     },
     "execution_count": 17,
     "metadata": {},
     "output_type": "execute_result"
    }
   ],
   "source": [
    "data.head()"
   ]
  },
  {
   "cell_type": "code",
   "execution_count": 18,
   "metadata": {},
   "outputs": [
    {
     "data": {
      "text/plain": [
       "Index(['question_url', 'user_url', 'answers_of_question', 'rank',\n",
       "       'number_of_a_tags', 'number_of_images', 'views', 'upvotes',\n",
       "       'content_word_count', 'days_since_last_modified', 'answer_views',\n",
       "       'answer_views_this_month', 'answers_of_user', 'followers', 'following',\n",
       "       'posts', 'questions', 'topics', 'rank_log'],\n",
       "      dtype='object')"
      ]
     },
     "execution_count": 18,
     "metadata": {},
     "output_type": "execute_result"
    }
   ],
   "source": [
    "data.columns"
   ]
  },
  {
   "cell_type": "code",
   "execution_count": 19,
   "metadata": {},
   "outputs": [
    {
     "data": {
      "image/png": "[encoded data removed]",
      "text/plain": [
       "<matplotlib.figure.Figure at 0x20d70e3df98>"
      ]
     },
     "metadata": {},
     "output_type": "display_data"
    }
   ],
   "source": [
    "# check the null value\n",
    "sns.heatmap(data.isnull(), yticklabels=False, cbar=False, cmap='viridis')\n",
    "plt.show()"
   ]
  },
  {
   "cell_type": "code",
   "execution_count": 20,
   "metadata": {},
   "outputs": [
    {
     "data": {
      "image/png": "[encoded data removed]",
      "text/plain": [
       "<matplotlib.figure.Figure at 0x20d72eee208>"
      ]
     },
     "metadata": {},
     "output_type": "display_data"
    }
   ],
   "source": [
    "data = data[data['user_url'].apply(quora.is_not_none)]\n",
    "sns.heatmap(data.isnull(), yticklabels=False, cbar=False, cmap='viridis')\n",
    "plt.show()"
   ]
  },
  {
   "cell_type": "code",
   "execution_count": 21,
   "metadata": {},
   "outputs": [
    {
     "data": {
      "text/plain": [
       "(668, 19)"
      ]
     },
     "execution_count": 21,
     "metadata": {},
     "output_type": "execute_result"
    }
   ],
   "source": [
    "data.shape"
   ]
  },
  {
   "cell_type": "code",
   "execution_count": 22,
   "metadata": {},
   "outputs": [],
   "source": [
    "# data = ps.TableQuery(data).select() \\\n",
    "# .where(query='question_url=https://www.quora.com/My-boss-gave-me-30-days-not-working-days-to-learn-Python-to-transfer-to-the-Data-Science-team-What-is-the-best-approach-to-learn-as-much-as-possible') \\\n",
    "# .execute()"
   ]
  },
  {
   "cell_type": "code",
   "execution_count": 23,
   "metadata": {},
   "outputs": [],
   "source": [
    "data = ps.TableQuery(data).select() \\\n",
    ".andWhere(query='rank<=20') \\\n",
    ".andWhere(query='answers_of_question>=20') \\\n",
    ".execute()"
   ]
  },
  {
   "cell_type": "code",
   "execution_count": 24,
   "metadata": {},
   "outputs": [
    {
     "data": {
      "text/html": [
       "<div>\n",
       "<style scoped>\n",
       "    .dataframe tbody tr th:only-of-type {\n",
       "        vertical-align: middle;\n",
       "    }\n",
       "\n",
       "    .dataframe tbody tr th {\n",
       "        vertical-align: top;\n",
       "    }\n",
       "\n",
       "    .dataframe thead th {\n",
       "        text-align: right;\n",
       "    }\n",
       "</style>\n",
       "<table border=\"1\" class=\"dataframe\">\n",
       "  <thead>\n",
       "    <tr style=\"text-align: right;\">\n",
       "      <th></th>\n",
       "      <th>rank</th>\n",
       "      <th>views_mean</th>\n",
       "      <th>views_count</th>\n",
       "    </tr>\n",
       "  </thead>\n",
       "  <tbody>\n",
       "    <tr>\n",
       "      <th>0</th>\n",
       "      <td>1</td>\n",
       "      <td>66418.181818</td>\n",
       "      <td>11</td>\n",
       "    </tr>\n",
       "    <tr>\n",
       "      <th>1</th>\n",
       "      <td>2</td>\n",
       "      <td>9240.727273</td>\n",
       "      <td>11</td>\n",
       "    </tr>\n",
       "    <tr>\n",
       "      <th>2</th>\n",
       "      <td>3</td>\n",
       "      <td>55671.636364</td>\n",
       "      <td>11</td>\n",
       "    </tr>\n",
       "    <tr>\n",
       "      <th>3</th>\n",
       "      <td>4</td>\n",
       "      <td>102930.000000</td>\n",
       "      <td>10</td>\n",
       "    </tr>\n",
       "    <tr>\n",
       "      <th>4</th>\n",
       "      <td>5</td>\n",
       "      <td>81621.727273</td>\n",
       "      <td>11</td>\n",
       "    </tr>\n",
       "    <tr>\n",
       "      <th>5</th>\n",
       "      <td>6</td>\n",
       "      <td>11400.363636</td>\n",
       "      <td>11</td>\n",
       "    </tr>\n",
       "    <tr>\n",
       "      <th>6</th>\n",
       "      <td>7</td>\n",
       "      <td>7559.636364</td>\n",
       "      <td>11</td>\n",
       "    </tr>\n",
       "    <tr>\n",
       "      <th>7</th>\n",
       "      <td>8</td>\n",
       "      <td>5465.545455</td>\n",
       "      <td>11</td>\n",
       "    </tr>\n",
       "    <tr>\n",
       "      <th>8</th>\n",
       "      <td>9</td>\n",
       "      <td>2027.818182</td>\n",
       "      <td>11</td>\n",
       "    </tr>\n",
       "    <tr>\n",
       "      <th>9</th>\n",
       "      <td>10</td>\n",
       "      <td>7028.454545</td>\n",
       "      <td>11</td>\n",
       "    </tr>\n",
       "    <tr>\n",
       "      <th>10</th>\n",
       "      <td>11</td>\n",
       "      <td>22203.272727</td>\n",
       "      <td>11</td>\n",
       "    </tr>\n",
       "    <tr>\n",
       "      <th>11</th>\n",
       "      <td>12</td>\n",
       "      <td>7073.545455</td>\n",
       "      <td>11</td>\n",
       "    </tr>\n",
       "    <tr>\n",
       "      <th>12</th>\n",
       "      <td>13</td>\n",
       "      <td>1664.909091</td>\n",
       "      <td>11</td>\n",
       "    </tr>\n",
       "    <tr>\n",
       "      <th>13</th>\n",
       "      <td>14</td>\n",
       "      <td>2454.545455</td>\n",
       "      <td>11</td>\n",
       "    </tr>\n",
       "    <tr>\n",
       "      <th>14</th>\n",
       "      <td>15</td>\n",
       "      <td>2974.363636</td>\n",
       "      <td>11</td>\n",
       "    </tr>\n",
       "    <tr>\n",
       "      <th>15</th>\n",
       "      <td>16</td>\n",
       "      <td>3224.454545</td>\n",
       "      <td>11</td>\n",
       "    </tr>\n",
       "    <tr>\n",
       "      <th>16</th>\n",
       "      <td>17</td>\n",
       "      <td>3835.090909</td>\n",
       "      <td>11</td>\n",
       "    </tr>\n",
       "    <tr>\n",
       "      <th>17</th>\n",
       "      <td>18</td>\n",
       "      <td>4035.636364</td>\n",
       "      <td>11</td>\n",
       "    </tr>\n",
       "    <tr>\n",
       "      <th>18</th>\n",
       "      <td>19</td>\n",
       "      <td>884.636364</td>\n",
       "      <td>11</td>\n",
       "    </tr>\n",
       "    <tr>\n",
       "      <th>19</th>\n",
       "      <td>20</td>\n",
       "      <td>2000.181818</td>\n",
       "      <td>11</td>\n",
       "    </tr>\n",
       "  </tbody>\n",
       "</table>\n",
       "</div>"
      ],
      "text/plain": [
       "    rank     views_mean  views_count\n",
       "0      1   66418.181818           11\n",
       "1      2    9240.727273           11\n",
       "2      3   55671.636364           11\n",
       "3      4  102930.000000           10\n",
       "4      5   81621.727273           11\n",
       "5      6   11400.363636           11\n",
       "6      7    7559.636364           11\n",
       "7      8    5465.545455           11\n",
       "8      9    2027.818182           11\n",
       "9     10    7028.454545           11\n",
       "10    11   22203.272727           11\n",
       "11    12    7073.545455           11\n",
       "12    13    1664.909091           11\n",
       "13    14    2454.545455           11\n",
       "14    15    2974.363636           11\n",
       "15    16    3224.454545           11\n",
       "16    17    3835.090909           11\n",
       "17    18    4035.636364           11\n",
       "18    19     884.636364           11\n",
       "19    20    2000.181818           11"
      ]
     },
     "execution_count": 24,
     "metadata": {},
     "output_type": "execute_result"
    }
   ],
   "source": [
    "ps.TableQuery(data).select(['views']).groupBy(['rank'], ['mean', 'count']).execute()"
   ]
  },
  {
   "cell_type": "code",
   "execution_count": 25,
   "metadata": {},
   "outputs": [
    {
     "data": {
      "text/html": [
       "<div>\n",
       "<style scoped>\n",
       "    .dataframe tbody tr th:only-of-type {\n",
       "        vertical-align: middle;\n",
       "    }\n",
       "\n",
       "    .dataframe tbody tr th {\n",
       "        vertical-align: top;\n",
       "    }\n",
       "\n",
       "    .dataframe thead th {\n",
       "        text-align: right;\n",
       "    }\n",
       "</style>\n",
       "<table border=\"1\" class=\"dataframe\">\n",
       "  <thead>\n",
       "    <tr style=\"text-align: right;\">\n",
       "      <th></th>\n",
       "      <th>question_url</th>\n",
       "      <th>user_url</th>\n",
       "      <th>answers_of_question</th>\n",
       "      <th>rank</th>\n",
       "      <th>number_of_a_tags</th>\n",
       "      <th>number_of_images</th>\n",
       "      <th>views</th>\n",
       "      <th>upvotes</th>\n",
       "      <th>content_word_count</th>\n",
       "      <th>days_since_last_modified</th>\n",
       "      <th>answer_views</th>\n",
       "      <th>answer_views_this_month</th>\n",
       "      <th>answers_of_user</th>\n",
       "      <th>followers</th>\n",
       "      <th>following</th>\n",
       "      <th>posts</th>\n",
       "      <th>questions</th>\n",
       "      <th>topics</th>\n",
       "      <th>rank_log</th>\n",
       "    </tr>\n",
       "  </thead>\n",
       "  <tbody>\n",
       "    <tr>\n",
       "      <th>0</th>\n",
       "      <td>https://www.quora.com/My-boss-gave-me-30-days-...</td>\n",
       "      <td>https://www.quora.com/profile/Kenneth-Goodman-4</td>\n",
       "      <td>100</td>\n",
       "      <td>5</td>\n",
       "      <td>8</td>\n",
       "      <td>0</td>\n",
       "      <td>104400</td>\n",
       "      <td>743</td>\n",
       "      <td>270</td>\n",
       "      <td>717</td>\n",
       "      <td>181900.0</td>\n",
       "      <td>6100.0</td>\n",
       "      <td>68.0</td>\n",
       "      <td>140.0</td>\n",
       "      <td>1.0</td>\n",
       "      <td>1.0</td>\n",
       "      <td>1.0</td>\n",
       "      <td>33.0</td>\n",
       "      <td>0.698970</td>\n",
       "    </tr>\n",
       "    <tr>\n",
       "      <th>1</th>\n",
       "      <td>https://www.quora.com/My-boss-gave-me-30-days-...</td>\n",
       "      <td>https://www.quora.com/profile/Stephen-M-Greenf...</td>\n",
       "      <td>100</td>\n",
       "      <td>13</td>\n",
       "      <td>0</td>\n",
       "      <td>0</td>\n",
       "      <td>1300</td>\n",
       "      <td>3</td>\n",
       "      <td>275</td>\n",
       "      <td>208</td>\n",
       "      <td>526800.0</td>\n",
       "      <td>12100.0</td>\n",
       "      <td>41.0</td>\n",
       "      <td>144.0</td>\n",
       "      <td>97.0</td>\n",
       "      <td>0.0</td>\n",
       "      <td>5.0</td>\n",
       "      <td>40.0</td>\n",
       "      <td>1.113943</td>\n",
       "    </tr>\n",
       "    <tr>\n",
       "      <th>2</th>\n",
       "      <td>https://www.quora.com/My-boss-gave-me-30-days-...</td>\n",
       "      <td>https://www.quora.com/profile/Debanjan-Sengupta-7</td>\n",
       "      <td>100</td>\n",
       "      <td>1</td>\n",
       "      <td>2</td>\n",
       "      <td>0</td>\n",
       "      <td>15600</td>\n",
       "      <td>46</td>\n",
       "      <td>267</td>\n",
       "      <td>489</td>\n",
       "      <td>0.0</td>\n",
       "      <td>0.0</td>\n",
       "      <td>229.0</td>\n",
       "      <td>1036.0</td>\n",
       "      <td>1529.0</td>\n",
       "      <td>0.0</td>\n",
       "      <td>111.0</td>\n",
       "      <td>797.0</td>\n",
       "      <td>0.000000</td>\n",
       "    </tr>\n",
       "    <tr>\n",
       "      <th>3</th>\n",
       "      <td>https://www.quora.com/My-boss-gave-me-30-days-...</td>\n",
       "      <td>https://www.quora.com/profile/Siddharth-Dikshit-1</td>\n",
       "      <td>100</td>\n",
       "      <td>7</td>\n",
       "      <td>1</td>\n",
       "      <td>0</td>\n",
       "      <td>1300</td>\n",
       "      <td>3</td>\n",
       "      <td>183</td>\n",
       "      <td>216</td>\n",
       "      <td>2800.0</td>\n",
       "      <td>162.0</td>\n",
       "      <td>12.0</td>\n",
       "      <td>49.0</td>\n",
       "      <td>76.0</td>\n",
       "      <td>0.0</td>\n",
       "      <td>0.0</td>\n",
       "      <td>94.0</td>\n",
       "      <td>0.845098</td>\n",
       "    </tr>\n",
       "    <tr>\n",
       "      <th>4</th>\n",
       "      <td>https://www.quora.com/My-boss-gave-me-30-days-...</td>\n",
       "      <td>https://www.quora.com/profile/Bob-Jones-38</td>\n",
       "      <td>100</td>\n",
       "      <td>15</td>\n",
       "      <td>0</td>\n",
       "      <td>0</td>\n",
       "      <td>1000</td>\n",
       "      <td>6</td>\n",
       "      <td>455</td>\n",
       "      <td>94</td>\n",
       "      <td>901000.0</td>\n",
       "      <td>2300.0</td>\n",
       "      <td>89.0</td>\n",
       "      <td>881.0</td>\n",
       "      <td>29.0</td>\n",
       "      <td>0.0</td>\n",
       "      <td>13.0</td>\n",
       "      <td>25.0</td>\n",
       "      <td>1.176091</td>\n",
       "    </tr>\n",
       "  </tbody>\n",
       "</table>\n",
       "</div>"
      ],
      "text/plain": [
       "                                        question_url  \\\n",
       "0  https://www.quora.com/My-boss-gave-me-30-days-...   \n",
       "1  https://www.quora.com/My-boss-gave-me-30-days-...   \n",
       "2  https://www.quora.com/My-boss-gave-me-30-days-...   \n",
       "3  https://www.quora.com/My-boss-gave-me-30-days-...   \n",
       "4  https://www.quora.com/My-boss-gave-me-30-days-...   \n",
       "\n",
       "                                            user_url  answers_of_question  \\\n",
       "0    https://www.quora.com/profile/Kenneth-Goodman-4                  100   \n",
       "1  https://www.quora.com/profile/Stephen-M-Greenf...                  100   \n",
       "2  https://www.quora.com/profile/Debanjan-Sengupta-7                  100   \n",
       "3  https://www.quora.com/profile/Siddharth-Dikshit-1                  100   \n",
       "4         https://www.quora.com/profile/Bob-Jones-38                  100   \n",
       "\n",
       "   rank  number_of_a_tags  number_of_images   views  upvotes  \\\n",
       "0     5                 8                 0  104400      743   \n",
       "1    13                 0                 0    1300        3   \n",
       "2     1                 2                 0   15600       46   \n",
       "3     7                 1                 0    1300        3   \n",
       "4    15                 0                 0    1000        6   \n",
       "\n",
       "   content_word_count  days_since_last_modified  answer_views  \\\n",
       "0                 270                       717      181900.0   \n",
       "1                 275                       208      526800.0   \n",
       "2                 267                       489           0.0   \n",
       "3                 183                       216        2800.0   \n",
       "4                 455                        94      901000.0   \n",
       "\n",
       "   answer_views_this_month  answers_of_user  followers  following  posts  \\\n",
       "0                   6100.0             68.0      140.0        1.0    1.0   \n",
       "1                  12100.0             41.0      144.0       97.0    0.0   \n",
       "2                      0.0            229.0     1036.0     1529.0    0.0   \n",
       "3                    162.0             12.0       49.0       76.0    0.0   \n",
       "4                   2300.0             89.0      881.0       29.0    0.0   \n",
       "\n",
       "   questions  topics  rank_log  \n",
       "0        1.0    33.0  0.698970  \n",
       "1        5.0    40.0  1.113943  \n",
       "2      111.0   797.0  0.000000  \n",
       "3        0.0    94.0  0.845098  \n",
       "4       13.0    25.0  1.176091  "
      ]
     },
     "execution_count": 25,
     "metadata": {},
     "output_type": "execute_result"
    }
   ],
   "source": [
    "data.head()"
   ]
  },
  {
   "cell_type": "code",
   "execution_count": 26,
   "metadata": {},
   "outputs": [
    {
     "data": {
      "text/html": [
       "<div>\n",
       "<style scoped>\n",
       "    .dataframe tbody tr th:only-of-type {\n",
       "        vertical-align: middle;\n",
       "    }\n",
       "\n",
       "    .dataframe tbody tr th {\n",
       "        vertical-align: top;\n",
       "    }\n",
       "\n",
       "    .dataframe thead th {\n",
       "        text-align: right;\n",
       "    }\n",
       "</style>\n",
       "<table border=\"1\" class=\"dataframe\">\n",
       "  <thead>\n",
       "    <tr style=\"text-align: right;\">\n",
       "      <th></th>\n",
       "      <th>answers_of_question</th>\n",
       "      <th>rank</th>\n",
       "      <th>number_of_a_tags</th>\n",
       "      <th>number_of_images</th>\n",
       "      <th>views</th>\n",
       "      <th>upvotes</th>\n",
       "      <th>content_word_count</th>\n",
       "      <th>days_since_last_modified</th>\n",
       "      <th>answer_views</th>\n",
       "      <th>answer_views_this_month</th>\n",
       "      <th>answers_of_user</th>\n",
       "      <th>followers</th>\n",
       "      <th>following</th>\n",
       "      <th>posts</th>\n",
       "      <th>questions</th>\n",
       "      <th>topics</th>\n",
       "      <th>rank_log</th>\n",
       "    </tr>\n",
       "  </thead>\n",
       "  <tbody>\n",
       "    <tr>\n",
       "      <th>answers_of_question</th>\n",
       "      <td>1.000000</td>\n",
       "      <td>-0.003622</td>\n",
       "      <td>0.291532</td>\n",
       "      <td>0.024016</td>\n",
       "      <td>0.050191</td>\n",
       "      <td>-0.037702</td>\n",
       "      <td>0.318347</td>\n",
       "      <td>0.161948</td>\n",
       "      <td>-0.041755</td>\n",
       "      <td>-0.081260</td>\n",
       "      <td>-0.117952</td>\n",
       "      <td>0.080492</td>\n",
       "      <td>-0.037349</td>\n",
       "      <td>-0.072027</td>\n",
       "      <td>0.039331</td>\n",
       "      <td>0.005817</td>\n",
       "      <td>-0.002961</td>\n",
       "    </tr>\n",
       "    <tr>\n",
       "      <th>rank</th>\n",
       "      <td>-0.003622</td>\n",
       "      <td>1.000000</td>\n",
       "      <td>-0.223450</td>\n",
       "      <td>-0.167769</td>\n",
       "      <td>-0.238623</td>\n",
       "      <td>-0.239928</td>\n",
       "      <td>-0.518002</td>\n",
       "      <td>0.061853</td>\n",
       "      <td>-0.041988</td>\n",
       "      <td>-0.027491</td>\n",
       "      <td>0.025558</td>\n",
       "      <td>-0.062926</td>\n",
       "      <td>-0.015780</td>\n",
       "      <td>-0.033234</td>\n",
       "      <td>-0.003154</td>\n",
       "      <td>-0.038038</td>\n",
       "      <td>0.931071</td>\n",
       "    </tr>\n",
       "    <tr>\n",
       "      <th>number_of_a_tags</th>\n",
       "      <td>0.291532</td>\n",
       "      <td>-0.223450</td>\n",
       "      <td>1.000000</td>\n",
       "      <td>0.096034</td>\n",
       "      <td>-0.000433</td>\n",
       "      <td>0.037434</td>\n",
       "      <td>0.144626</td>\n",
       "      <td>-0.023691</td>\n",
       "      <td>-0.015658</td>\n",
       "      <td>-0.019419</td>\n",
       "      <td>-0.044713</td>\n",
       "      <td>0.029987</td>\n",
       "      <td>0.078208</td>\n",
       "      <td>-0.004870</td>\n",
       "      <td>0.105238</td>\n",
       "      <td>0.064598</td>\n",
       "      <td>-0.233609</td>\n",
       "    </tr>\n",
       "    <tr>\n",
       "      <th>number_of_images</th>\n",
       "      <td>0.024016</td>\n",
       "      <td>-0.167769</td>\n",
       "      <td>0.096034</td>\n",
       "      <td>1.000000</td>\n",
       "      <td>0.046739</td>\n",
       "      <td>0.101379</td>\n",
       "      <td>0.143634</td>\n",
       "      <td>-0.057421</td>\n",
       "      <td>0.081307</td>\n",
       "      <td>0.021725</td>\n",
       "      <td>0.025206</td>\n",
       "      <td>0.074391</td>\n",
       "      <td>0.005334</td>\n",
       "      <td>0.068929</td>\n",
       "      <td>0.023201</td>\n",
       "      <td>0.060599</td>\n",
       "      <td>-0.176138</td>\n",
       "    </tr>\n",
       "    <tr>\n",
       "      <th>views</th>\n",
       "      <td>0.050191</td>\n",
       "      <td>-0.238623</td>\n",
       "      <td>-0.000433</td>\n",
       "      <td>0.046739</td>\n",
       "      <td>1.000000</td>\n",
       "      <td>0.727598</td>\n",
       "      <td>0.217185</td>\n",
       "      <td>0.071265</td>\n",
       "      <td>0.309308</td>\n",
       "      <td>0.276040</td>\n",
       "      <td>0.265284</td>\n",
       "      <td>0.114089</td>\n",
       "      <td>0.029561</td>\n",
       "      <td>0.001100</td>\n",
       "      <td>-0.016529</td>\n",
       "      <td>-0.009868</td>\n",
       "      <td>-0.244259</td>\n",
       "    </tr>\n",
       "    <tr>\n",
       "      <th>upvotes</th>\n",
       "      <td>-0.037702</td>\n",
       "      <td>-0.239928</td>\n",
       "      <td>0.037434</td>\n",
       "      <td>0.101379</td>\n",
       "      <td>0.727598</td>\n",
       "      <td>1.000000</td>\n",
       "      <td>0.077681</td>\n",
       "      <td>0.057816</td>\n",
       "      <td>0.305192</td>\n",
       "      <td>0.277837</td>\n",
       "      <td>0.252313</td>\n",
       "      <td>0.137625</td>\n",
       "      <td>0.033569</td>\n",
       "      <td>0.000642</td>\n",
       "      <td>-0.013022</td>\n",
       "      <td>-0.003068</td>\n",
       "      <td>-0.266061</td>\n",
       "    </tr>\n",
       "    <tr>\n",
       "      <th>content_word_count</th>\n",
       "      <td>0.318347</td>\n",
       "      <td>-0.518002</td>\n",
       "      <td>0.144626</td>\n",
       "      <td>0.143634</td>\n",
       "      <td>0.217185</td>\n",
       "      <td>0.077681</td>\n",
       "      <td>1.000000</td>\n",
       "      <td>0.063732</td>\n",
       "      <td>-0.093961</td>\n",
       "      <td>-0.092203</td>\n",
       "      <td>-0.136644</td>\n",
       "      <td>-0.055206</td>\n",
       "      <td>-0.045763</td>\n",
       "      <td>-0.034061</td>\n",
       "      <td>-0.052078</td>\n",
       "      <td>-0.014155</td>\n",
       "      <td>-0.551675</td>\n",
       "    </tr>\n",
       "    <tr>\n",
       "      <th>days_since_last_modified</th>\n",
       "      <td>0.161948</td>\n",
       "      <td>0.061853</td>\n",
       "      <td>-0.023691</td>\n",
       "      <td>-0.057421</td>\n",
       "      <td>0.071265</td>\n",
       "      <td>0.057816</td>\n",
       "      <td>0.063732</td>\n",
       "      <td>1.000000</td>\n",
       "      <td>-0.027276</td>\n",
       "      <td>-0.072192</td>\n",
       "      <td>-0.023672</td>\n",
       "      <td>0.018449</td>\n",
       "      <td>0.108924</td>\n",
       "      <td>0.166804</td>\n",
       "      <td>0.127456</td>\n",
       "      <td>0.123696</td>\n",
       "      <td>0.063791</td>\n",
       "    </tr>\n",
       "    <tr>\n",
       "      <th>answer_views</th>\n",
       "      <td>-0.041755</td>\n",
       "      <td>-0.041988</td>\n",
       "      <td>-0.015658</td>\n",
       "      <td>0.081307</td>\n",
       "      <td>0.309308</td>\n",
       "      <td>0.305192</td>\n",
       "      <td>-0.093961</td>\n",
       "      <td>-0.027276</td>\n",
       "      <td>1.000000</td>\n",
       "      <td>0.933035</td>\n",
       "      <td>0.907499</td>\n",
       "      <td>0.592935</td>\n",
       "      <td>0.241755</td>\n",
       "      <td>0.178417</td>\n",
       "      <td>0.172900</td>\n",
       "      <td>0.106909</td>\n",
       "      <td>-0.010615</td>\n",
       "    </tr>\n",
       "    <tr>\n",
       "      <th>answer_views_this_month</th>\n",
       "      <td>-0.081260</td>\n",
       "      <td>-0.027491</td>\n",
       "      <td>-0.019419</td>\n",
       "      <td>0.021725</td>\n",
       "      <td>0.276040</td>\n",
       "      <td>0.277837</td>\n",
       "      <td>-0.092203</td>\n",
       "      <td>-0.072192</td>\n",
       "      <td>0.933035</td>\n",
       "      <td>1.000000</td>\n",
       "      <td>0.930716</td>\n",
       "      <td>0.462010</td>\n",
       "      <td>0.166333</td>\n",
       "      <td>0.103131</td>\n",
       "      <td>0.070499</td>\n",
       "      <td>0.072458</td>\n",
       "      <td>-0.015318</td>\n",
       "    </tr>\n",
       "    <tr>\n",
       "      <th>answers_of_user</th>\n",
       "      <td>-0.117952</td>\n",
       "      <td>0.025558</td>\n",
       "      <td>-0.044713</td>\n",
       "      <td>0.025206</td>\n",
       "      <td>0.265284</td>\n",
       "      <td>0.252313</td>\n",
       "      <td>-0.136644</td>\n",
       "      <td>-0.023672</td>\n",
       "      <td>0.907499</td>\n",
       "      <td>0.930716</td>\n",
       "      <td>1.000000</td>\n",
       "      <td>0.341998</td>\n",
       "      <td>0.176322</td>\n",
       "      <td>0.172605</td>\n",
       "      <td>0.175949</td>\n",
       "      <td>0.072136</td>\n",
       "      <td>0.039414</td>\n",
       "    </tr>\n",
       "    <tr>\n",
       "      <th>followers</th>\n",
       "      <td>0.080492</td>\n",
       "      <td>-0.062926</td>\n",
       "      <td>0.029987</td>\n",
       "      <td>0.074391</td>\n",
       "      <td>0.114089</td>\n",
       "      <td>0.137625</td>\n",
       "      <td>-0.055206</td>\n",
       "      <td>0.018449</td>\n",
       "      <td>0.592935</td>\n",
       "      <td>0.462010</td>\n",
       "      <td>0.341998</td>\n",
       "      <td>1.000000</td>\n",
       "      <td>0.204978</td>\n",
       "      <td>0.158495</td>\n",
       "      <td>0.171206</td>\n",
       "      <td>0.298127</td>\n",
       "      <td>-0.023649</td>\n",
       "    </tr>\n",
       "    <tr>\n",
       "      <th>following</th>\n",
       "      <td>-0.037349</td>\n",
       "      <td>-0.015780</td>\n",
       "      <td>0.078208</td>\n",
       "      <td>0.005334</td>\n",
       "      <td>0.029561</td>\n",
       "      <td>0.033569</td>\n",
       "      <td>-0.045763</td>\n",
       "      <td>0.108924</td>\n",
       "      <td>0.241755</td>\n",
       "      <td>0.166333</td>\n",
       "      <td>0.176322</td>\n",
       "      <td>0.204978</td>\n",
       "      <td>1.000000</td>\n",
       "      <td>0.367620</td>\n",
       "      <td>0.351460</td>\n",
       "      <td>0.177042</td>\n",
       "      <td>-0.029380</td>\n",
       "    </tr>\n",
       "    <tr>\n",
       "      <th>posts</th>\n",
       "      <td>-0.072027</td>\n",
       "      <td>-0.033234</td>\n",
       "      <td>-0.004870</td>\n",
       "      <td>0.068929</td>\n",
       "      <td>0.001100</td>\n",
       "      <td>0.000642</td>\n",
       "      <td>-0.034061</td>\n",
       "      <td>0.166804</td>\n",
       "      <td>0.178417</td>\n",
       "      <td>0.103131</td>\n",
       "      <td>0.172605</td>\n",
       "      <td>0.158495</td>\n",
       "      <td>0.367620</td>\n",
       "      <td>1.000000</td>\n",
       "      <td>0.591568</td>\n",
       "      <td>0.502388</td>\n",
       "      <td>-0.008134</td>\n",
       "    </tr>\n",
       "    <tr>\n",
       "      <th>questions</th>\n",
       "      <td>0.039331</td>\n",
       "      <td>-0.003154</td>\n",
       "      <td>0.105238</td>\n",
       "      <td>0.023201</td>\n",
       "      <td>-0.016529</td>\n",
       "      <td>-0.013022</td>\n",
       "      <td>-0.052078</td>\n",
       "      <td>0.127456</td>\n",
       "      <td>0.172900</td>\n",
       "      <td>0.070499</td>\n",
       "      <td>0.175949</td>\n",
       "      <td>0.171206</td>\n",
       "      <td>0.351460</td>\n",
       "      <td>0.591568</td>\n",
       "      <td>1.000000</td>\n",
       "      <td>0.255710</td>\n",
       "      <td>0.003068</td>\n",
       "    </tr>\n",
       "    <tr>\n",
       "      <th>topics</th>\n",
       "      <td>0.005817</td>\n",
       "      <td>-0.038038</td>\n",
       "      <td>0.064598</td>\n",
       "      <td>0.060599</td>\n",
       "      <td>-0.009868</td>\n",
       "      <td>-0.003068</td>\n",
       "      <td>-0.014155</td>\n",
       "      <td>0.123696</td>\n",
       "      <td>0.106909</td>\n",
       "      <td>0.072458</td>\n",
       "      <td>0.072136</td>\n",
       "      <td>0.298127</td>\n",
       "      <td>0.177042</td>\n",
       "      <td>0.502388</td>\n",
       "      <td>0.255710</td>\n",
       "      <td>1.000000</td>\n",
       "      <td>-0.054128</td>\n",
       "    </tr>\n",
       "    <tr>\n",
       "      <th>rank_log</th>\n",
       "      <td>-0.002961</td>\n",
       "      <td>0.931071</td>\n",
       "      <td>-0.233609</td>\n",
       "      <td>-0.176138</td>\n",
       "      <td>-0.244259</td>\n",
       "      <td>-0.266061</td>\n",
       "      <td>-0.551675</td>\n",
       "      <td>0.063791</td>\n",
       "      <td>-0.010615</td>\n",
       "      <td>-0.015318</td>\n",
       "      <td>0.039414</td>\n",
       "      <td>-0.023649</td>\n",
       "      <td>-0.029380</td>\n",
       "      <td>-0.008134</td>\n",
       "      <td>0.003068</td>\n",
       "      <td>-0.054128</td>\n",
       "      <td>1.000000</td>\n",
       "    </tr>\n",
       "  </tbody>\n",
       "</table>\n",
       "</div>"
      ],
      "text/plain": [
       "                          answers_of_question      rank  number_of_a_tags  \\\n",
       "answers_of_question                  1.000000 -0.003622          0.291532   \n",
       "rank                                -0.003622  1.000000         -0.223450   \n",
       "number_of_a_tags                     0.291532 -0.223450          1.000000   \n",
       "number_of_images                     0.024016 -0.167769          0.096034   \n",
       "views                                0.050191 -0.238623         -0.000433   \n",
       "upvotes                             -0.037702 -0.239928          0.037434   \n",
       "content_word_count                   0.318347 -0.518002          0.144626   \n",
       "days_since_last_modified             0.161948  0.061853         -0.023691   \n",
       "answer_views                        -0.041755 -0.041988         -0.015658   \n",
       "answer_views_this_month             -0.081260 -0.027491         -0.019419   \n",
       "answers_of_user                     -0.117952  0.025558         -0.044713   \n",
       "followers                            0.080492 -0.062926          0.029987   \n",
       "following                           -0.037349 -0.015780          0.078208   \n",
       "posts                               -0.072027 -0.033234         -0.004870   \n",
       "questions                            0.039331 -0.003154          0.105238   \n",
       "topics                               0.005817 -0.038038          0.064598   \n",
       "rank_log                            -0.002961  0.931071         -0.233609   \n",
       "\n",
       "                          number_of_images     views   upvotes  \\\n",
       "answers_of_question               0.024016  0.050191 -0.037702   \n",
       "rank                             -0.167769 -0.238623 -0.239928   \n",
       "number_of_a_tags                  0.096034 -0.000433  0.037434   \n",
       "number_of_images                  1.000000  0.046739  0.101379   \n",
       "views                             0.046739  1.000000  0.727598   \n",
       "upvotes                           0.101379  0.727598  1.000000   \n",
       "content_word_count                0.143634  0.217185  0.077681   \n",
       "days_since_last_modified         -0.057421  0.071265  0.057816   \n",
       "answer_views                      0.081307  0.309308  0.305192   \n",
       "answer_views_this_month           0.021725  0.276040  0.277837   \n",
       "answers_of_user                   0.025206  0.265284  0.252313   \n",
       "followers                         0.074391  0.114089  0.137625   \n",
       "following                         0.005334  0.029561  0.033569   \n",
       "posts                             0.068929  0.001100  0.000642   \n",
       "questions                         0.023201 -0.016529 -0.013022   \n",
       "topics                            0.060599 -0.009868 -0.003068   \n",
       "rank_log                         -0.176138 -0.244259 -0.266061   \n",
       "\n",
       "                          content_word_count  days_since_last_modified  \\\n",
       "answers_of_question                 0.318347                  0.161948   \n",
       "rank                               -0.518002                  0.061853   \n",
       "number_of_a_tags                    0.144626                 -0.023691   \n",
       "number_of_images                    0.143634                 -0.057421   \n",
       "views                               0.217185                  0.071265   \n",
       "upvotes                             0.077681                  0.057816   \n",
       "content_word_count                  1.000000                  0.063732   \n",
       "days_since_last_modified            0.063732                  1.000000   \n",
       "answer_views                       -0.093961                 -0.027276   \n",
       "answer_views_this_month            -0.092203                 -0.072192   \n",
       "answers_of_user                    -0.136644                 -0.023672   \n",
       "followers                          -0.055206                  0.018449   \n",
       "following                          -0.045763                  0.108924   \n",
       "posts                              -0.034061                  0.166804   \n",
       "questions                          -0.052078                  0.127456   \n",
       "topics                             -0.014155                  0.123696   \n",
       "rank_log                           -0.551675                  0.063791   \n",
       "\n",
       "                          answer_views  answer_views_this_month  \\\n",
       "answers_of_question          -0.041755                -0.081260   \n",
       "rank                         -0.041988                -0.027491   \n",
       "number_of_a_tags             -0.015658                -0.019419   \n",
       "number_of_images              0.081307                 0.021725   \n",
       "views                         0.309308                 0.276040   \n",
       "upvotes                       0.305192                 0.277837   \n",
       "content_word_count           -0.093961                -0.092203   \n",
       "days_since_last_modified     -0.027276                -0.072192   \n",
       "answer_views                  1.000000                 0.933035   \n",
       "answer_views_this_month       0.933035                 1.000000   \n",
       "answers_of_user               0.907499                 0.930716   \n",
       "followers                     0.592935                 0.462010   \n",
       "following                     0.241755                 0.166333   \n",
       "posts                         0.178417                 0.103131   \n",
       "questions                     0.172900                 0.070499   \n",
       "topics                        0.106909                 0.072458   \n",
       "rank_log                     -0.010615                -0.015318   \n",
       "\n",
       "                          answers_of_user  followers  following     posts  \\\n",
       "answers_of_question             -0.117952   0.080492  -0.037349 -0.072027   \n",
       "rank                             0.025558  -0.062926  -0.015780 -0.033234   \n",
       "number_of_a_tags                -0.044713   0.029987   0.078208 -0.004870   \n",
       "number_of_images                 0.025206   0.074391   0.005334  0.068929   \n",
       "views                            0.265284   0.114089   0.029561  0.001100   \n",
       "upvotes                          0.252313   0.137625   0.033569  0.000642   \n",
       "content_word_count              -0.136644  -0.055206  -0.045763 -0.034061   \n",
       "days_since_last_modified        -0.023672   0.018449   0.108924  0.166804   \n",
       "answer_views                     0.907499   0.592935   0.241755  0.178417   \n",
       "answer_views_this_month          0.930716   0.462010   0.166333  0.103131   \n",
       "answers_of_user                  1.000000   0.341998   0.176322  0.172605   \n",
       "followers                        0.341998   1.000000   0.204978  0.158495   \n",
       "following                        0.176322   0.204978   1.000000  0.367620   \n",
       "posts                            0.172605   0.158495   0.367620  1.000000   \n",
       "questions                        0.175949   0.171206   0.351460  0.591568   \n",
       "topics                           0.072136   0.298127   0.177042  0.502388   \n",
       "rank_log                         0.039414  -0.023649  -0.029380 -0.008134   \n",
       "\n",
       "                          questions    topics  rank_log  \n",
       "answers_of_question        0.039331  0.005817 -0.002961  \n",
       "rank                      -0.003154 -0.038038  0.931071  \n",
       "number_of_a_tags           0.105238  0.064598 -0.233609  \n",
       "number_of_images           0.023201  0.060599 -0.176138  \n",
       "views                     -0.016529 -0.009868 -0.244259  \n",
       "upvotes                   -0.013022 -0.003068 -0.266061  \n",
       "content_word_count        -0.052078 -0.014155 -0.551675  \n",
       "days_since_last_modified   0.127456  0.123696  0.063791  \n",
       "answer_views               0.172900  0.106909 -0.010615  \n",
       "answer_views_this_month    0.070499  0.072458 -0.015318  \n",
       "answers_of_user            0.175949  0.072136  0.039414  \n",
       "followers                  0.171206  0.298127 -0.023649  \n",
       "following                  0.351460  0.177042 -0.029380  \n",
       "posts                      0.591568  0.502388 -0.008134  \n",
       "questions                  1.000000  0.255710  0.003068  \n",
       "topics                     0.255710  1.000000 -0.054128  \n",
       "rank_log                   0.003068 -0.054128  1.000000  "
      ]
     },
     "execution_count": 26,
     "metadata": {},
     "output_type": "execute_result"
    }
   ],
   "source": [
    "data.corr()"
   ]
  },
  {
   "cell_type": "code",
   "execution_count": 27,
   "metadata": {},
   "outputs": [
    {
     "data": {
      "text/plain": [
       "(219, 19)"
      ]
     },
     "execution_count": 27,
     "metadata": {},
     "output_type": "execute_result"
    }
   ],
   "source": [
    "data.shape"
   ]
  },
  {
   "cell_type": "code",
   "execution_count": 28,
   "metadata": {},
   "outputs": [],
   "source": [
    "\"\"\"\n",
    "1. Select a list of features as predictor input\n",
    "2. Assign a variable to be target as output\n",
    "\"\"\"\n",
    "\n",
    "predictors = [\n",
    " #   'answers_of_question',\n",
    "    'number_of_a_tags', \n",
    "    'number_of_images', \n",
    "    'views', \n",
    "    'upvotes',\n",
    "    'content_word_count', \n",
    "    'days_since_last_modified', \n",
    "    'answer_views',\n",
    "    'answer_views_this_month', \n",
    "    'answers_of_user', \n",
    "    'followers', \n",
    "    'following',\n",
    "    'posts', \n",
    "    'questions', \n",
    "    'topics'\n",
    "]\n",
    "\n",
    "target = 'rank_log'"
   ]
  },
  {
   "cell_type": "markdown",
   "metadata": {},
   "source": [
    " ### Build Model - GLM"
   ]
  },
  {
   "cell_type": "code",
   "execution_count": 29,
   "metadata": {},
   "outputs": [],
   "source": [
    "\"\"\"\n",
    "1. Pass the model parameters to the model settings\n",
    "2. Build a Linear Regression Model instance\n",
    "3. Train and test the data\n",
    "\"\"\"\n",
    "\n",
    "setting = ModelSetting.create() \\\n",
    ".add(ModelSetting.TRAINING_SIZE, 0.8) \\\n",
    ".add(ModelSetting.SEED, 77) \\\n",
    ".add(ModelSetting.MODEL_NAME, Model.LINEAR_REGRESSION) \\\n",
    ".add(ModelSetting.ALPAH, 0.5) \\\n",
    ".add(ModelSetting.PREDICTORS, predictors) \\\n",
    ".add(ModelSetting.TARGET, target) \\\n",
    ".setup()"
   ]
  },
  {
   "cell_type": "code",
   "execution_count": 30,
   "metadata": {},
   "outputs": [],
   "source": [
    "model = LinearRegressorModel(data, setting)"
   ]
  },
  {
   "cell_type": "code",
   "execution_count": 31,
   "metadata": {},
   "outputs": [],
   "source": [
    "# Train the model\n",
    "model.train()"
   ]
  },
  {
   "cell_type": "code",
   "execution_count": 32,
   "metadata": {},
   "outputs": [
    {
     "data": {
      "text/plain": [
       "{'alpha': 0.5,\n",
       " 'model_name': 'Linear Regression',\n",
       " 'predictors': 'number_of_a_tags,number_of_images,views,upvotes,content_word_count,days_since_last_modified,answer_views,answer_views_this_month,answers_of_user,followers,following,posts,questions,topics',\n",
       " 'seed': 77,\n",
       " 'target': 'rank_log',\n",
       " 'train_mse': 0.06256332727522736,\n",
       " 'train_r2': 0.4303216739898622,\n",
       " 'train_rmse': 0.25012662248394785,\n",
       " 'training_size': 0.8}"
      ]
     },
     "execution_count": 32,
     "metadata": {},
     "output_type": "execute_result"
    }
   ],
   "source": [
    "model.model_performance()"
   ]
  },
  {
   "cell_type": "code",
   "execution_count": 33,
   "metadata": {},
   "outputs": [
    {
     "data": {
      "text/plain": [
       "<pystats.ops.metrics.RegressorMetrics at 0x20d72ef9be0>"
      ]
     },
     "execution_count": 33,
     "metadata": {},
     "output_type": "execute_result"
    }
   ],
   "source": [
    "model.evaluate()"
   ]
  },
  {
   "cell_type": "code",
   "execution_count": 34,
   "metadata": {},
   "outputs": [
    {
     "name": "stdout",
     "output_type": "stream",
     "text": [
      "Mean Squared Error: 0.11099792267975574\n",
      "Root Mean Squared Error: 0.3331635074250416\n",
      "R2 Score: 0.2564968188714294\n"
     ]
    }
   ],
   "source": [
    "model.test_report.show()"
   ]
  },
  {
   "cell_type": "code",
   "execution_count": 35,
   "metadata": {},
   "outputs": [
    {
     "data": {
      "image/png": "[encoded data removed]",
      "text/plain": [
       "<matplotlib.figure.Figure at 0x20d72f42278>"
      ]
     },
     "metadata": {},
     "output_type": "display_data"
    }
   ],
   "source": [
    "# check the distribution of difference between actual data and predicted data without transforming to orignal rank\n",
    "sns.distplot(model.predict(model.X_test)-model.y_test)\n",
    "plt.show()"
   ]
  },
  {
   "cell_type": "code",
   "execution_count": 36,
   "metadata": {},
   "outputs": [
    {
     "data": {
      "image/png": "[encoded data removed]",
      "text/plain": [
       "<matplotlib.figure.Figure at 0x20d72feff98>"
      ]
     },
     "metadata": {},
     "output_type": "display_data"
    }
   ],
   "source": [
    "# check the distribution of difference between actual data and predicted data with transforming to orignal rank\n",
    "sns.distplot(model.predict(model.X_test).apply(lambda x: np.power(10,x))-model.y_test.apply(lambda x: np.power(10,x)))\n",
    "plt.show()"
   ]
  },
  {
   "cell_type": "markdown",
   "metadata": {},
   "source": [
    "### Prediction"
   ]
  },
  {
   "cell_type": "code",
   "execution_count": 100,
   "metadata": {},
   "outputs": [
    {
     "data": {
      "text/html": [
       "<div>\n",
       "<style scoped>\n",
       "    .dataframe tbody tr th:only-of-type {\n",
       "        vertical-align: middle;\n",
       "    }\n",
       "\n",
       "    .dataframe tbody tr th {\n",
       "        vertical-align: top;\n",
       "    }\n",
       "\n",
       "    .dataframe thead th {\n",
       "        text-align: right;\n",
       "    }\n",
       "</style>\n",
       "<table border=\"1\" class=\"dataframe\">\n",
       "  <thead>\n",
       "    <tr style=\"text-align: right;\">\n",
       "      <th></th>\n",
       "      <th>question_url</th>\n",
       "      <th>user_url</th>\n",
       "      <th>answers_of_question</th>\n",
       "      <th>rank</th>\n",
       "      <th>number_of_a_tags</th>\n",
       "      <th>number_of_images</th>\n",
       "      <th>views</th>\n",
       "      <th>upvotes</th>\n",
       "      <th>content_word_count</th>\n",
       "      <th>days_since_last_modified</th>\n",
       "      <th>answer_views</th>\n",
       "      <th>answer_views_this_month</th>\n",
       "      <th>answers_of_user</th>\n",
       "      <th>followers</th>\n",
       "      <th>following</th>\n",
       "      <th>posts</th>\n",
       "      <th>questions</th>\n",
       "      <th>topics</th>\n",
       "      <th>rank_log</th>\n",
       "    </tr>\n",
       "  </thead>\n",
       "  <tbody>\n",
       "    <tr>\n",
       "      <th>42</th>\n",
       "      <td>https://www.quora.com/Why-is-artificial-intell...</td>\n",
       "      <td>https://www.quora.com/profile/Michael-Lange-40</td>\n",
       "      <td>29</td>\n",
       "      <td>11</td>\n",
       "      <td>0</td>\n",
       "      <td>0</td>\n",
       "      <td>280</td>\n",
       "      <td>1</td>\n",
       "      <td>178</td>\n",
       "      <td>81</td>\n",
       "      <td>25900.0</td>\n",
       "      <td>3500.0</td>\n",
       "      <td>234.0</td>\n",
       "      <td>32.0</td>\n",
       "      <td>0.0</td>\n",
       "      <td>0.0</td>\n",
       "      <td>0.0</td>\n",
       "      <td>89.0</td>\n",
       "      <td>1.041393</td>\n",
       "    </tr>\n",
       "  </tbody>\n",
       "</table>\n",
       "</div>"
      ],
      "text/plain": [
       "                                         question_url  \\\n",
       "42  https://www.quora.com/Why-is-artificial-intell...   \n",
       "\n",
       "                                          user_url  answers_of_question  rank  \\\n",
       "42  https://www.quora.com/profile/Michael-Lange-40                   29    11   \n",
       "\n",
       "    number_of_a_tags  number_of_images  views  upvotes  content_word_count  \\\n",
       "42                 0                 0    280        1                 178   \n",
       "\n",
       "    days_since_last_modified  answer_views  answer_views_this_month  \\\n",
       "42                        81       25900.0                   3500.0   \n",
       "\n",
       "    answers_of_user  followers  following  posts  questions  topics  rank_log  \n",
       "42            234.0       32.0        0.0    0.0        0.0    89.0  1.041393  "
      ]
     },
     "execution_count": 100,
     "metadata": {},
     "output_type": "execute_result"
    }
   ],
   "source": [
    "'''\n",
    "Prediction for a certain question\n",
    "'''\n",
    "\n",
    "question = data.sample(1)\n",
    "question"
   ]
  },
  {
   "cell_type": "code",
   "execution_count": 101,
   "metadata": {},
   "outputs": [
    {
     "name": "stdout",
     "output_type": "stream",
     "text": [
      "Actual Rank=11\n",
      "Predicted Rank=9.09\n"
     ]
    }
   ],
   "source": [
    "print('Actual Rank={}'.format(question['rank'].values[0]))\n",
    "print('Predicted Rank={:.2f}'.format(model.predict(question).apply(lambda x: np.power(10,x)).values[0]))"
   ]
  },
  {
   "cell_type": "code",
   "execution_count": 56,
   "metadata": {},
   "outputs": [
    {
     "data": {
      "text/html": [
       "<div>\n",
       "<style scoped>\n",
       "    .dataframe tbody tr th:only-of-type {\n",
       "        vertical-align: middle;\n",
       "    }\n",
       "\n",
       "    .dataframe tbody tr th {\n",
       "        vertical-align: top;\n",
       "    }\n",
       "\n",
       "    .dataframe thead th {\n",
       "        text-align: right;\n",
       "    }\n",
       "</style>\n",
       "<table border=\"1\" class=\"dataframe\">\n",
       "  <thead>\n",
       "    <tr style=\"text-align: right;\">\n",
       "      <th></th>\n",
       "      <th>number_of_a_tags</th>\n",
       "      <th>number_of_images</th>\n",
       "      <th>views</th>\n",
       "      <th>upvotes</th>\n",
       "      <th>content_word_count</th>\n",
       "      <th>days_since_last_modified</th>\n",
       "      <th>answer_views</th>\n",
       "      <th>answer_views_this_month</th>\n",
       "      <th>answers_of_user</th>\n",
       "      <th>followers</th>\n",
       "      <th>following</th>\n",
       "      <th>posts</th>\n",
       "      <th>questions</th>\n",
       "      <th>topics</th>\n",
       "      <th>rank_log</th>\n",
       "    </tr>\n",
       "  </thead>\n",
       "  <tbody>\n",
       "    <tr>\n",
       "      <th>49</th>\n",
       "      <td>0</td>\n",
       "      <td>0</td>\n",
       "      <td>3500</td>\n",
       "      <td>15</td>\n",
       "      <td>133</td>\n",
       "      <td>198</td>\n",
       "      <td>439500.0</td>\n",
       "      <td>6800.0</td>\n",
       "      <td>118.0</td>\n",
       "      <td>113.0</td>\n",
       "      <td>13.0</td>\n",
       "      <td>0.0</td>\n",
       "      <td>1.0</td>\n",
       "      <td>19.0</td>\n",
       "      <td>1.0</td>\n",
       "    </tr>\n",
       "  </tbody>\n",
       "</table>\n",
       "</div>"
      ],
      "text/plain": [
       "    number_of_a_tags  number_of_images  views  upvotes  content_word_count  \\\n",
       "49                 0                 0   3500       15                 133   \n",
       "\n",
       "    days_since_last_modified  answer_views  answer_views_this_month  \\\n",
       "49                       198      439500.0                   6800.0   \n",
       "\n",
       "    answers_of_user  followers  following  posts  questions  topics  rank_log  \n",
       "49            118.0      113.0       13.0    0.0        1.0    19.0       1.0  "
      ]
     },
     "execution_count": 56,
     "metadata": {},
     "output_type": "execute_result"
    }
   ],
   "source": [
    "'''\n",
    "Prediction for a certain question\n",
    "'''\n",
    "\n",
    "question2 = model.test_data.sample(1)\n",
    "question2"
   ]
  },
  {
   "cell_type": "code",
   "execution_count": 57,
   "metadata": {},
   "outputs": [
    {
     "name": "stdout",
     "output_type": "stream",
     "text": [
      "Actual Rank=10.0\n",
      "Predicted Rank=10.40\n"
     ]
    }
   ],
   "source": [
    "print('Actual Rank={}'.format(question2['rank_log'].apply(lambda x: np.power(10,x)).values[0]))\n",
    "print('Predicted Rank={:.2f}'.format(model.predict(question2).apply(lambda x: np.power(10,x)).values[0]))"
   ]
  },
  {
   "cell_type": "code",
   "execution_count": null,
   "metadata": {},
   "outputs": [],
   "source": []
  }
 ],
 "metadata": {
  "kernelspec": {
   "display_name": "Python 3",
   "language": "python",
   "name": "python3"
  },
  "language_info": {
   "codemirror_mode": {
    "name": "ipython",
    "version": 3
   },
   "file_extension": ".py",
   "mimetype": "text/x-python",
   "name": "python",
   "nbconvert_exporter": "python",
   "pygments_lexer": "ipython3",
   "version": "3.6.4"
  }
 },
 "nbformat": 4,
 "nbformat_minor": 2
}
