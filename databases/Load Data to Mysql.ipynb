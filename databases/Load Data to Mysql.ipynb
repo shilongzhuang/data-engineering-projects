{
 "cells": [
  {
   "cell_type": "code",
   "execution_count": 1,
   "id": "2b7ce5e9-20fa-4119-a31c-1a7b1fb515a7",
   "metadata": {},
   "outputs": [],
   "source": [
    "import pandas as pd\n",
    "import numpy as np\n",
    "\n",
    "import duckdb \n",
    "import requests\n",
    "import json\n",
    "import io\n",
    "import os\n",
    "\n",
    "from tabulate import tabulate\n",
    "\n",
    "def print_table(table):\n",
    "    print(tabulate(table, headers='keys', showindex=False, tablefmt='presto'))\n",
    "import pprint\n",
    "\n",
    "from plydata import define, query, select, head, do, group_by, summarize, arrange, left_join, distinct\n",
    "\n",
    "import mysql.connector\n",
    "from sqlalchemy import create_engine"
   ]
  },
  {
   "cell_type": "code",
   "execution_count": 2,
   "id": "538dc480-a406-4092-8525-0e7398fa7e5f",
   "metadata": {},
   "outputs": [],
   "source": [
    "url = \"https://dummyjson.com/users\"\n",
    "\n",
    "r = requests.get(url)"
   ]
  },
  {
   "cell_type": "code",
   "execution_count": 3,
   "id": "becbb9c0-375d-4ac1-a8c0-abf568ed4d2b",
   "metadata": {},
   "outputs": [],
   "source": [
    "if r.status_code == 200:\n",
    "    json_data = r.json()"
   ]
  },
  {
   "cell_type": "code",
   "execution_count": 4,
   "id": "c2154fc2-9596-42d1-af0d-b2f85fd35ad7",
   "metadata": {},
   "outputs": [],
   "source": [
    "df = pd.DataFrame(json_data['users'])"
   ]
  },
  {
   "cell_type": "code",
   "execution_count": 5,
   "id": "d8743cdb-fb8f-40f3-bd6c-ff470b8fea0d",
   "metadata": {},
   "outputs": [
    {
     "name": "stdout",
     "output_type": "stream",
     "text": [
      "   id | firstName   | lastName   | maidenName   |   age | gender   | email                 | phone             | username   | password   | birthDate   | image                                               | bloodGroup   |   height |   weight | eyeColor   | hair                                     | domain        | ip             | address                                                                                                                                                    | macAddress        | university                           | bank                                                                                                                                                    | company                                                                                                                                                                                                                                                         | ein        | ssn         | userAgent\n",
      "------+-------------+------------+--------------+-------+----------+-----------------------+-------------------+------------+------------+-------------+-----------------------------------------------------+--------------+----------+----------+------------+------------------------------------------+---------------+----------------+------------------------------------------------------------------------------------------------------------------------------------------------------------+-------------------+--------------------------------------+---------------------------------------------------------------------------------------------------------------------------------------------------------+-----------------------------------------------------------------------------------------------------------------------------------------------------------------------------------------------------------------------------------------------------------------+------------+-------------+---------------------------------------------------------------------------------------------------------------------------------------------\n",
      "    1 | Terry       | Medhurst   | Smitham      |    50 | male     | atuny0@sohu.com       | +63 791 675 8914  | atuny0     | 9uQFF1Lh   | 2000-12-25  | https://robohash.org/hicveldicta.png                | A−           |      189 |     75.4 | Green      | {'color': 'Black', 'type': 'Strands'}    | slashdot.org  | 117.29.86.254  | {'address': '1745 T Street Southeast', 'city': 'Washington', 'coordinates': {'lat': 38.867033, 'lng': -76.979235}, 'postalCode': '20020', 'state': 'DC'}   | 13:69:BA:56:A3:74 | Capitol University                   | {'cardExpire': '06/22', 'cardNumber': '50380955204220685', 'cardType': 'maestro', 'currency': 'Peso', 'iban': 'NO17 0695 2754 967'}                     | {'address': {'address': '629 Debbie Drive', 'city': 'Nashville', 'coordinates': {'lat': 36.208114, 'lng': -86.58621199999999}, 'postalCode': '37076', 'state': 'TN'}, 'department': 'Marketing', 'name': \"Blanda-O'Keefe\", 'title': 'Help Desk Operator'}       | 20-9487066 | 661-64-2976 | Mozilla/5.0 (Windows NT 6.1) AppleWebKit/534.24 (KHTML, like Gecko) Chrome/12.0.702.0 Safari/534.24\n",
      "    2 | Sheldon     | Quigley    | Cole         |    28 | male     | hbingley1@plala.or.jp | +7 813 117 7139   | hbingley1  | CQutx25i8r | 2003-08-02  | https://robohash.org/doloremquesintcorrupti.png     | O+           |      187 |     74   | Brown      | {'color': 'Blond', 'type': 'Curly'}      | 51.la         | 253.240.20.181 | {'address': '6007 Applegate Lane', 'city': 'Louisville', 'coordinates': {'lat': 38.1343013, 'lng': -85.6498512}, 'postalCode': '40219', 'state': 'KY'}     | 13:F1:00:DA:A4:12 | Stavropol State Technical University | {'cardExpire': '10/23', 'cardNumber': '5355920631952404', 'cardType': 'mastercard', 'currency': 'Ruble', 'iban': 'MD63 L6YC 8YH4 QVQB XHIK MTML'}       | {'address': {'address': '8821 West Myrtle Avenue', 'city': 'Glendale', 'coordinates': {'lat': 33.5404296, 'lng': -112.2488391}, 'postalCode': '85305', 'state': 'AZ'}, 'department': 'Services', 'name': 'Aufderhar-Cronin', 'title': 'Senior Cost Accountant'} | 52-5262907 | 447-08-9217 | Mozilla/5.0 (X11; Linux x86_64) AppleWebKit/534.30 (KHTML, like Gecko) Ubuntu/11.04 Chromium/12.0.742.112 Chrome/12.0.742.112 Safari/534.30\n",
      "    3 | Terrill     | Hills      | Hoeger       |    38 | male     | rshawe2@51.la         | +63 739 292 7942  | rshawe2    | OWsTbMUgFc | 1992-12-30  | https://robohash.org/consequunturautconsequatur.png | A−           |      200 |    105.3 | Gray       | {'color': 'Blond', 'type': 'Very curly'} | earthlink.net | 205.226.160.3  | {'address': '560 Penstock Drive', 'city': 'Grass Valley', 'coordinates': {'lat': 39.213076, 'lng': -121.077583}, 'postalCode': '95945', 'state': 'CA'}     | F2:88:58:64:F7:76 | University of Cagayan Valley         | {'cardExpire': '10/23', 'cardNumber': '3586082982526703', 'cardType': 'jcb', 'currency': 'Peso', 'iban': 'AT24 1095 9625 1434 9703'}                    | {'address': {'address': '18 Densmore Drive', 'city': 'Essex', 'coordinates': {'lat': 44.492953, 'lng': -73.101883}, 'postalCode': '05452', 'state': 'VT'}, 'department': 'Marketing', 'name': 'Lindgren LLC', 'title': 'Mechanical Systems Engineer'}           | 48-3951994 | 633-89-1926 | Mozilla/5.0 (Windows NT 6.2; Win64; x64; rv:21.0.0) Gecko/20121011 Firefox/21.0.0\n",
      "    4 | Miles       | Cummerata  | Maggio       |    49 | male     | yraigatt3@nature.com  | +86 461 145 4186  | yraigatt3  | sRQxjPfdS  | 1969-01-16  | https://robohash.org/facilisdignissimosdolore.png   | B+           |      157 |     95.9 | Gray       | {'color': 'Blond', 'type': 'Very curly'} | homestead.com | 243.20.78.113  | {'address': '150 Carter Street', 'city': 'Manchester', 'coordinates': {'lat': 41.76556000000001, 'lng': -72.473091}, 'postalCode': '06040', 'state': 'CT'} | 03:45:58:59:5A:7B | Shenyang Pharmaceutical University   | {'cardExpire': '07/24', 'cardNumber': '3580047879369323', 'cardType': 'jcb', 'currency': 'Yuan Renminbi', 'iban': 'KZ43 658B M6VS TZOU OXSO'}           | {'address': {'address': '210 Green Road', 'city': 'Manchester', 'coordinates': {'lat': 41.7909099, 'lng': -72.51195129999999}, 'postalCode': '06042', 'state': 'CT'}, 'department': 'Business Development', 'name': 'Wolff and Sons', 'title': 'Paralegal'}     | 71-3644334 | 487-28-6642 | Mozilla/5.0 (Windows NT 6.2; WOW64) AppleWebKit/537.11 (KHTML, like Gecko) Chrome/23.0.1271.17 Safari/537.11\n",
      "    5 | Mavis       | Schultz    | Yundt        |    38 | male     | kmeus4@upenn.edu      | +372 285 771 1911 | kmeus4     | aUTdmmmbH  | 1968-11-03  | https://robohash.org/adverovelit.png                | O+           |      188 |    106.3 | Brown      | {'color': 'Brown', 'type': 'Curly'}      | columbia.edu  | 103.72.86.183  | {'address': '2721 Lindsay Avenue', 'city': 'Louisville', 'coordinates': {'lat': 38.263793, 'lng': -85.700243}, 'postalCode': '40206', 'state': 'KY'}       | F8:04:9E:ED:C0:68 | Estonian University of Life Sciences | {'cardExpire': '01/24', 'cardNumber': '4917245076693618', 'cardType': 'visa-electron', 'currency': 'Euro', 'iban': 'IT41 T114 5127 716J RGYB ZRUX DSJ'} | {'address': {'address': '8398 West Denton Lane', 'city': 'Glendale', 'coordinates': {'lat': 33.515353, 'lng': -112.240812}, 'postalCode': '85305', 'state': 'AZ'}, 'department': 'Support', 'name': 'Adams Inc', 'title': 'Web Developer I'}                    | 18-7178563 | 667-98-5357 | Mozilla/5.0 (Windows NT 6.0) AppleWebKit/535.1 (KHTML, like Gecko) Chrome/13.0.782.1 Safari/535.1\n"
     ]
    }
   ],
   "source": [
    "print_table(df >> head())"
   ]
  },
  {
   "cell_type": "code",
   "execution_count": 6,
   "id": "1212f841-8bb3-4e91-9161-8d8eda40394a",
   "metadata": {},
   "outputs": [],
   "source": [
    "columns = ['id', 'firstName', 'lastName', 'age', 'gender', 'email', 'username', 'birthDate']\n",
    "data = df[columns]"
   ]
  },
  {
   "cell_type": "code",
   "execution_count": 32,
   "id": "559c8679-aca8-4b36-be1a-386466a203a2",
   "metadata": {},
   "outputs": [
    {
     "name": "stdin",
     "output_type": "stream",
     "text": [
      "Your password? ········\n"
     ]
    }
   ],
   "source": [
    "import getpass\n",
    " \n",
    "password = getpass.getpass(prompt='Your password?')"
   ]
  },
  {
   "cell_type": "code",
   "execution_count": 33,
   "id": "21979e85-a269-45b3-8f5c-6dc84c8b52e5",
   "metadata": {},
   "outputs": [],
   "source": [
    "# Replace the following with your MySQL database credentials\n",
    "db_config = {\n",
    "    \"host\": \"127.0.0.1\",\n",
    "    \"port\": 3306,\n",
    "    \"user\": \"mydb\",\n",
    "    \"password\": password,\n",
    "    \"database\": \"mydb\",\n",
    "}"
   ]
  },
  {
   "cell_type": "code",
   "execution_count": 34,
   "id": "474e64b0-f37f-401a-a63d-a47c8f3a122f",
   "metadata": {},
   "outputs": [],
   "source": [
    "def connect_to_database(db_config):\n",
    "    try:\n",
    "        connection = mysql.connector.connect(**db_config)\n",
    "        if connection.is_connected():\n",
    "            print(\"Connected to MySQL database\")\n",
    "            return connection\n",
    "    except mysql.connector.Error as error:\n",
    "        print(\"Error while connecting to MySQL:\", error)\n",
    "        return None"
   ]
  },
  {
   "cell_type": "code",
   "execution_count": 35,
   "id": "5c914582-87c8-4d04-a96f-519745f7e96b",
   "metadata": {},
   "outputs": [],
   "source": [
    "def create_table(connection):\n",
    "    try:\n",
    "        cursor = connection.cursor()\n",
    "        create_table_query = (\n",
    "            \"CREATE TABLE IF NOT EXISTS your_table_name (\"\n",
    "            \"id INT AUTO_INCREMENT PRIMARY KEY,\"\n",
    "            \"name VARCHAR(255),\"\n",
    "            \"email VARCHAR(255)\"\n",
    "            \")\"\n",
    "        )\n",
    "        cursor.execute(create_table_query)\n",
    "        print(\"Table created successfully\")\n",
    "    except mysql.connector.Error as error:\n",
    "        print(\"Error while creating table:\", error)\n",
    "\n",
    "def pandas_to_sql(connection, dataframe):\n",
    "    try:\n",
    "        # Replace 'your_table_name' with the name of the table you want to insert into\n",
    "        table_name = 'your_table_name'\n",
    "\n",
    "        # Write the DataFrame to the MySQL table\n",
    "        dataframe.to_sql(name=table_name, con=connection, if_exists='append', index=False)\n",
    "\n",
    "        print(\"Data inserted into MySQL table successfully\")\n",
    "    except mysql.connector.Error as error:\n",
    "        print(\"Error while writing data to MySQL table:\", error)"
   ]
  },
  {
   "cell_type": "code",
   "execution_count": 36,
   "id": "2d3d2751-f557-4042-a96f-f9cc06a503cd",
   "metadata": {},
   "outputs": [
    {
     "name": "stdout",
     "output_type": "stream",
     "text": [
      "Connected to MySQL database\n"
     ]
    }
   ],
   "source": [
    "mysql_conn = connect_to_database(db_config)"
   ]
  },
  {
   "cell_type": "code",
   "execution_count": 37,
   "id": "0948c362-1afe-44cf-920e-d5ae6cae553b",
   "metadata": {},
   "outputs": [
    {
     "name": "stdout",
     "output_type": "stream",
     "text": [
      "Data inserted into MySQL table successfully\n",
      "CPU times: user 33.8 ms, sys: 3.56 ms, total: 37.4 ms\n",
      "Wall time: 67 ms\n"
     ]
    }
   ],
   "source": [
    "%%time\n",
    "try:\n",
    "    table_name = 'users'\n",
    "    # Create SQLAlchemy engine using MySQL connector\n",
    "    engine = create_engine(\n",
    "        f\"mysql+mysqlconnector://{db_config['user']}:{db_config['password']}@{db_config['host']}:{db_config['port']}/{db_config['database']}\"\n",
    "    )\n",
    "    data.to_sql(name=table_name, con=engine, if_exists='replace', index=False)\n",
    "    print(\"Data inserted into MySQL table successfully\")\n",
    "except mysql.connector.Error as error:\n",
    "    print(\"Error while writing data to MySQL table:\", error)"
   ]
  },
  {
   "cell_type": "code",
   "execution_count": null,
   "id": "dd663d48-929e-492a-b1a8-d0c17e325b88",
   "metadata": {},
   "outputs": [],
   "source": []
  },
  {
   "cell_type": "code",
   "execution_count": null,
   "id": "05286b44-2fe0-46f2-8c08-d41e40a0ca11",
   "metadata": {},
   "outputs": [],
   "source": []
  }
 ],
 "metadata": {
  "kernelspec": {
   "display_name": "Python 3 (ipykernel)",
   "language": "python",
   "name": "python3"
  },
  "language_info": {
   "codemirror_mode": {
    "name": "ipython",
    "version": 3
   },
   "file_extension": ".py",
   "mimetype": "text/x-python",
   "name": "python",
   "nbconvert_exporter": "python",
   "pygments_lexer": "ipython3",
   "version": "3.9.16"
  }
 },
 "nbformat": 4,
 "nbformat_minor": 5
}
